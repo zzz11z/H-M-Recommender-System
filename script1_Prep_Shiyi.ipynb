{
 "cells": [
  {
   "cell_type": "markdown",
   "id": "8513701e-7b84-450f-aacd-6b96df73c9fa",
   "metadata": {},
   "source": [
    "# Get the dataset ready"
   ]
  },
  {
   "cell_type": "markdown",
   "id": "4a797740-38cd-4f01-bcdb-a1a1e89ba3ce",
   "metadata": {},
   "source": [
    "## 1. Import libs"
   ]
  },
  {
   "cell_type": "code",
   "execution_count": 1,
   "id": "4301149d-b883-4d8a-b131-08dfdddf8d24",
   "metadata": {},
   "outputs": [],
   "source": [
    "import numpy as np\n",
    "import pandas as pd\n",
    "import datetime\n",
    "\n",
    "import seaborn as sns\n",
    "import matplotlib.pyplot as plt\n",
    "import missingno as msno\n",
    "#import cudf      # RAPIDS cuDF : read df from GPU\n",
    "\n",
    "\n",
    "import warnings\n",
    "warnings.filterwarnings(\"ignore\")"
   ]
  },
  {
   "cell_type": "markdown",
   "id": "e0db4142-b875-4721-a6d6-55730709ec78",
   "metadata": {},
   "source": [
    "## 2. Check Result format\n",
    "Check what the recommendation system's output looks like\n",
    "- Recommend each customer with 12 items"
   ]
  },
  {
   "cell_type": "code",
   "execution_count": 2,
   "id": "56809060-9bc7-4c6b-8263-42544e5b6b1a",
   "metadata": {},
   "outputs": [],
   "source": [
    "submit = pd.read_csv('raw/sample_submission.csv') # customer_id & 12 x recommendations\n",
    "# submit.head()"
   ]
  },
  {
   "cell_type": "markdown",
   "id": "494bfce0-6bd9-42a4-a0ed-9320ba30e304",
   "metadata": {},
   "source": [
    "## 3. Memory tricks\n",
    "    - deal with data size first\n",
    "1. Resize the image to lower resolution(512 x 512)  \n",
    "https://www.kaggle.com/c/h-and-m-personalized-fashion-recommendations/discussion/306152\n",
    "2. Reduce memory  \n",
    "https://www.kaggle.com/c/h-and-m-personalized-fashion-recommendations/discussion/308635\n",
    "3. Save to parquet to reduce time for reading files "
   ]
  },
  {
   "cell_type": "code",
   "execution_count": 3,
   "id": "eb8d7f9c",
   "metadata": {},
   "outputs": [
    {
     "name": "stdout",
     "output_type": "stream",
     "text": [
      "Customer Cleaning & EDA.ipynb \u001b[34mraw\u001b[m\u001b[m\n",
      "H&M -Articles EDA.ipynb       script1_Prep_z11.ipynb\n",
      "articles_20ss.parquet         script2_EDA_z11.ipynb\n",
      "customers_20ss.parquet        transactions_20ss.parquet\n",
      "\u001b[34mimages_512_512\u001b[m\u001b[m\n"
     ]
    }
   ],
   "source": [
    "!ls"
   ]
  },
  {
   "cell_type": "markdown",
   "id": "143b56ab",
   "metadata": {},
   "source": [
    "> ### 3.1 Read Data"
   ]
  },
  {
   "cell_type": "code",
   "execution_count": 4,
   "id": "cfb127ab",
   "metadata": {},
   "outputs": [],
   "source": [
    "articles = pd.read_csv('raw/articles.csv')                   #    105,542 x 25\n",
    "customers = pd.read_csv('raw/customers.csv')                 #  1,371,980 x 7\n",
    "transactions = pd.read_csv('raw/transactions_train.csv')     # 31,788,324 x 5"
   ]
  },
  {
   "cell_type": "markdown",
   "id": "227c11c6-828e-49ca-944d-5a24ce10a9cf",
   "metadata": {},
   "source": [
    "> ### 3.2 Reduce memory"
   ]
  },
  {
   "cell_type": "markdown",
   "id": "d76d5510-7326-4dd5-abe8-35070b8c8659",
   "metadata": {},
   "source": [
    "##### transactions_train.csv"
   ]
  },
  {
   "cell_type": "code",
   "execution_count": 5,
   "id": "fe137cff-388e-487f-bc28-688794fbdf1c",
   "metadata": {},
   "outputs": [],
   "source": [
    "# customer_id\n",
    "transactions.customer_id = transactions.customer_id.apply(lambda x: int(x[-16:],16) ).astype('int64')\n",
    "\n",
    "# t_dat\n",
    "transactions.t_dat = pd.to_datetime(transactions.t_dat)\n",
    "transactions['year'] = (transactions.t_dat.dt.year-2000).astype('int8')  # 2 digits indicating year\n",
    "transactions['month'] = (transactions.t_dat.dt.month).astype('int8')\n",
    "transactions['day'] = (transactions.t_dat.dt.day).astype('int8')\n",
    "# del transactions['t_dat'] # for later use\n",
    "\n",
    "# price\n",
    "transactions.price = transactions.price.astype('float32')\n",
    "\n",
    "# sales_channel_id\n",
    "transactions.sales_channel_id = transactions.sales_channel_id.astype('int8')"
   ]
  },
  {
   "cell_type": "markdown",
   "id": "06b30e25-5da3-4f08-a0c6-a5028087080e",
   "metadata": {},
   "source": [
    "##### customers.csv"
   ]
  },
  {
   "cell_type": "code",
   "execution_count": 6,
   "id": "bcb6ac2d-48ae-4bc0-b505-b2859722bf87",
   "metadata": {},
   "outputs": [],
   "source": [
    "# customer_id\n",
    "customers.customer_id = customers.customer_id.apply(lambda x: int(x[-16:],16) ).astype('int64')\n",
    "\n",
    "# postal_code\n",
    "customers.postal_code = customers.postal_code.apply(lambda x: int(x[-16:],16) ).astype('int64')"
   ]
  },
  {
   "cell_type": "markdown",
   "id": "bf9e6122-2ef4-4955-9b2e-508dc9a4e95b",
   "metadata": {},
   "source": [
    "> ### 3.3 Get 2020ss data"
   ]
  },
  {
   "cell_type": "code",
   "execution_count": 7,
   "id": "74ce0df0-85d6-47a3-b95c-4921009656dc",
   "metadata": {},
   "outputs": [],
   "source": [
    "transactions_20ss = transactions[(transactions.year == 20) & (transactions.month.between(3,8))]\n",
    "del transactions_20ss['year']\n",
    "\n",
    "# filter the corresponding articles & customers records\n",
    "mask = articles['article_id'].isin(transactions_20ss['article_id'])\n",
    "articles_20ss = articles[mask]\n",
    "\n",
    "mask = customers['customer_id'].isin(transactions_20ss['customer_id'])\n",
    "customers_20ss = customers[mask]"
   ]
  },
  {
   "cell_type": "markdown",
   "id": "0dbc052c-38db-4c18-bb48-8dc66b0ea025",
   "metadata": {},
   "source": [
    "> ### 3.4 Save as parquet files"
   ]
  },
  {
   "cell_type": "code",
   "execution_count": 8,
   "id": "1dd77ae7-3918-4cbb-b0d3-505f2deae978",
   "metadata": {},
   "outputs": [],
   "source": [
    "articles_20ss.to_parquet('articles_20ss.parquet', index=False)\n",
    "customers_20ss.to_parquet('customers_20ss.parquet', index=False)\n",
    "transactions_20ss.to_parquet('transactions_20ss.parquet', index=False)"
   ]
  }
 ],
 "metadata": {
  "kernelspec": {
   "display_name": "Python 3",
   "language": "python",
   "name": "python3"
  },
  "language_info": {
   "codemirror_mode": {
    "name": "ipython",
    "version": 3
   },
   "file_extension": ".py",
   "mimetype": "text/x-python",
   "name": "python",
   "nbconvert_exporter": "python",
   "pygments_lexer": "ipython3",
   "version": "3.8.8"
  }
 },
 "nbformat": 4,
 "nbformat_minor": 5
}
