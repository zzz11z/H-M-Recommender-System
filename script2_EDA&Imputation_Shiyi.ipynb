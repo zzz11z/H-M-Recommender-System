{
 "cells": [
  {
   "cell_type": "markdown",
   "id": "d4f23610-4b6f-4e31-a1fe-926d8bdcc072",
   "metadata": {},
   "source": [
    "# EDA"
   ]
  },
  {
   "cell_type": "markdown",
   "id": "49ab6120-2bc0-4921-aa4f-05a955540b89",
   "metadata": {},
   "source": [
    "## Setup"
   ]
  },
  {
   "cell_type": "code",
   "execution_count": 1,
   "id": "e28ae96c-6ee4-4819-9b57-10f18d466dde",
   "metadata": {},
   "outputs": [],
   "source": [
    "import numpy as np\n",
    "import pandas as pd\n",
    "import datetime\n",
    "\n",
    "import seaborn as sns\n",
    "import matplotlib.pyplot as plt\n",
    "import missingno as msno\n",
    "\n",
    "import sys\n",
    "import warnings\n",
    "warnings.filterwarnings(\"ignore\")"
   ]
  },
  {
   "cell_type": "code",
   "execution_count": 2,
   "id": "86abd1cc-d7c5-4d63-9cfb-3c6519e06bb2",
   "metadata": {},
   "outputs": [],
   "source": [
    "# Set some options for printing all the columns\n",
    "np.set_printoptions(precision = 10, threshold = sys.maxsize)\n",
    "np.set_printoptions(linewidth = np.inf)\n",
    "\n",
    "pd.set_option('display.max_columns', None)\n",
    "pd.set_option('display.expand_frame_repr', False)\n",
    "pd.set_option('max_colwidth', None)\n",
    "pd.set_option('precision', 10)\n",
    "\n",
    "pd.options.display.float_format = '{:,.7}'.format"
   ]
  },
  {
   "cell_type": "markdown",
   "id": "a8893cb1-e05d-4255-ab0d-528f9bf57f2c",
   "metadata": {},
   "source": [
    "## Read Data"
   ]
  },
  {
   "cell_type": "code",
   "execution_count": 3,
   "id": "bf16da27-172a-421c-829e-04dad2c231a7",
   "metadata": {},
   "outputs": [],
   "source": [
    "articles = pd.read_parquet('articles_20ss.parquet')\n",
    "customers = pd.read_parquet('customers_20ss.parquet')\n",
    "transactions = pd.read_parquet('transactions_20ss.parquet')"
   ]
  },
  {
   "cell_type": "markdown",
   "id": "b192ca43-87df-45b4-a262-6becc1e76b2b",
   "metadata": {},
   "source": [
    "## Features"
   ]
  },
  {
   "cell_type": "markdown",
   "id": "8a7aeaa7-d421-446d-ad07-4ef0785fe1f2",
   "metadata": {},
   "source": [
    "> ### transactions\n",
    "shape       : 8,103,650 x 6  \n",
    "foreign keys: customer_id (customers); article_id (articles)   \n",
    "info        : all numerical values"
   ]
  },
  {
   "cell_type": "code",
   "execution_count": 4,
   "id": "e8b80bf2-9a30-4abb-8af9-2c867f258557",
   "metadata": {},
   "outputs": [
    {
     "data": {
      "text/html": [
       "<div>\n",
       "<style scoped>\n",
       "    .dataframe tbody tr th:only-of-type {\n",
       "        vertical-align: middle;\n",
       "    }\n",
       "\n",
       "    .dataframe tbody tr th {\n",
       "        vertical-align: top;\n",
       "    }\n",
       "\n",
       "    .dataframe thead th {\n",
       "        text-align: right;\n",
       "    }\n",
       "</style>\n",
       "<table border=\"1\" class=\"dataframe\">\n",
       "  <thead>\n",
       "    <tr style=\"text-align: right;\">\n",
       "      <th></th>\n",
       "      <th>t_dat</th>\n",
       "      <th>customer_id</th>\n",
       "      <th>article_id</th>\n",
       "      <th>price</th>\n",
       "      <th>sales_channel_id</th>\n",
       "      <th>month</th>\n",
       "      <th>day</th>\n",
       "    </tr>\n",
       "  </thead>\n",
       "  <tbody>\n",
       "    <tr>\n",
       "      <th>0</th>\n",
       "      <td>2020-03-01</td>\n",
       "      <td>-7200416642310594310</td>\n",
       "      <td>751628002</td>\n",
       "      <td>0.02201695</td>\n",
       "      <td>1</td>\n",
       "      <td>3</td>\n",
       "      <td>1</td>\n",
       "    </tr>\n",
       "    <tr>\n",
       "      <th>1</th>\n",
       "      <td>2020-03-01</td>\n",
       "      <td>8486166240428812738</td>\n",
       "      <td>675662028</td>\n",
       "      <td>0.03557627</td>\n",
       "      <td>2</td>\n",
       "      <td>3</td>\n",
       "      <td>1</td>\n",
       "    </tr>\n",
       "    <tr>\n",
       "      <th>2</th>\n",
       "      <td>2020-03-01</td>\n",
       "      <td>-761612008142234995</td>\n",
       "      <td>821152004</td>\n",
       "      <td>0.02540678</td>\n",
       "      <td>2</td>\n",
       "      <td>3</td>\n",
       "      <td>1</td>\n",
       "    </tr>\n",
       "    <tr>\n",
       "      <th>3</th>\n",
       "      <td>2020-03-01</td>\n",
       "      <td>-761612008142234995</td>\n",
       "      <td>860738001</td>\n",
       "      <td>0.02540678</td>\n",
       "      <td>2</td>\n",
       "      <td>3</td>\n",
       "      <td>1</td>\n",
       "    </tr>\n",
       "    <tr>\n",
       "      <th>4</th>\n",
       "      <td>2020-03-01</td>\n",
       "      <td>-1779128939320411371</td>\n",
       "      <td>822957002</td>\n",
       "      <td>0.04574576</td>\n",
       "      <td>2</td>\n",
       "      <td>3</td>\n",
       "      <td>1</td>\n",
       "    </tr>\n",
       "  </tbody>\n",
       "</table>\n",
       "</div>"
      ],
      "text/plain": [
       "       t_dat          customer_id  article_id      price  sales_channel_id  month  day\n",
       "0 2020-03-01 -7200416642310594310   751628002 0.02201695                 1      3    1\n",
       "1 2020-03-01  8486166240428812738   675662028 0.03557627                 2      3    1\n",
       "2 2020-03-01  -761612008142234995   821152004 0.02540678                 2      3    1\n",
       "3 2020-03-01  -761612008142234995   860738001 0.02540678                 2      3    1\n",
       "4 2020-03-01 -1779128939320411371   822957002 0.04574576                 2      3    1"
      ]
     },
     "execution_count": 4,
     "metadata": {},
     "output_type": "execute_result"
    }
   ],
   "source": [
    "transactions.head()"
   ]
  },
  {
   "cell_type": "code",
   "execution_count": 5,
   "id": "934efe32-c886-4cc5-aac5-d4b80582692b",
   "metadata": {},
   "outputs": [
    {
     "name": "stdout",
     "output_type": "stream",
     "text": [
      "<class 'pandas.core.frame.DataFrame'>\n",
      "RangeIndex: 8103650 entries, 0 to 8103649\n",
      "Data columns (total 7 columns):\n",
      " #   Column            Dtype         \n",
      "---  ------            -----         \n",
      " 0   t_dat             datetime64[ns]\n",
      " 1   customer_id       int64         \n",
      " 2   article_id        int64         \n",
      " 3   price             float32       \n",
      " 4   sales_channel_id  int8          \n",
      " 5   month             int8          \n",
      " 6   day               int8          \n",
      "dtypes: datetime64[ns](1), float32(1), int64(2), int8(3)\n",
      "memory usage: 239.6 MB\n"
     ]
    }
   ],
   "source": [
    "transactions.info()"
   ]
  },
  {
   "cell_type": "code",
   "execution_count": 6,
   "id": "7da08555-7e2b-4317-8e12-130d76d7968c",
   "metadata": {},
   "outputs": [
    {
     "data": {
      "text/plain": [
       "t_dat               0\n",
       "customer_id         0\n",
       "article_id          0\n",
       "price               0\n",
       "sales_channel_id    0\n",
       "month               0\n",
       "day                 0\n",
       "dtype: int64"
      ]
     },
     "execution_count": 6,
     "metadata": {},
     "output_type": "execute_result"
    }
   ],
   "source": [
    "#msno.matrix(transactions)\n",
    "transactions.isnull().sum()"
   ]
  },
  {
   "cell_type": "markdown",
   "id": "309234b3-14d0-465e-8d44-aba447376712",
   "metadata": {},
   "source": [
    "<span style=\"color:darkred\">**Notice: transactions have returned orders!!!**</span>"
   ]
  },
  {
   "cell_type": "code",
   "execution_count": 7,
   "id": "f0578622-e010-4bd0-b3c2-31d182d9b085",
   "metadata": {},
   "outputs": [
    {
     "data": {
      "text/html": [
       "<div>\n",
       "<style scoped>\n",
       "    .dataframe tbody tr th:only-of-type {\n",
       "        vertical-align: middle;\n",
       "    }\n",
       "\n",
       "    .dataframe tbody tr th {\n",
       "        vertical-align: top;\n",
       "    }\n",
       "\n",
       "    .dataframe thead th {\n",
       "        text-align: right;\n",
       "    }\n",
       "</style>\n",
       "<table border=\"1\" class=\"dataframe\">\n",
       "  <thead>\n",
       "    <tr style=\"text-align: right;\">\n",
       "      <th></th>\n",
       "      <th>t_dat</th>\n",
       "      <th>customer_id</th>\n",
       "      <th>article_id</th>\n",
       "      <th>price</th>\n",
       "      <th>sales_channel_id</th>\n",
       "      <th>month</th>\n",
       "      <th>day</th>\n",
       "    </tr>\n",
       "  </thead>\n",
       "  <tbody>\n",
       "    <tr>\n",
       "      <th>9</th>\n",
       "      <td>2020-03-01</td>\n",
       "      <td>-7024693905701963300</td>\n",
       "      <td>794320006</td>\n",
       "      <td>0.04235593</td>\n",
       "      <td>2</td>\n",
       "      <td>3</td>\n",
       "      <td>1</td>\n",
       "    </tr>\n",
       "    <tr>\n",
       "      <th>10</th>\n",
       "      <td>2020-03-01</td>\n",
       "      <td>-7024693905701963300</td>\n",
       "      <td>794320006</td>\n",
       "      <td>0.04235593</td>\n",
       "      <td>2</td>\n",
       "      <td>3</td>\n",
       "      <td>1</td>\n",
       "    </tr>\n",
       "    <tr>\n",
       "      <th>19</th>\n",
       "      <td>2020-03-01</td>\n",
       "      <td>5199955052963697108</td>\n",
       "      <td>851866001</td>\n",
       "      <td>0.06584746</td>\n",
       "      <td>2</td>\n",
       "      <td>3</td>\n",
       "      <td>1</td>\n",
       "    </tr>\n",
       "    <tr>\n",
       "      <th>20</th>\n",
       "      <td>2020-03-01</td>\n",
       "      <td>5199955052963697108</td>\n",
       "      <td>851866001</td>\n",
       "      <td>0.06584746</td>\n",
       "      <td>2</td>\n",
       "      <td>3</td>\n",
       "      <td>1</td>\n",
       "    </tr>\n",
       "    <tr>\n",
       "      <th>24</th>\n",
       "      <td>2020-03-01</td>\n",
       "      <td>3051518411062988268</td>\n",
       "      <td>579302001</td>\n",
       "      <td>0.03388136</td>\n",
       "      <td>2</td>\n",
       "      <td>3</td>\n",
       "      <td>1</td>\n",
       "    </tr>\n",
       "    <tr>\n",
       "      <th>...</th>\n",
       "      <td>...</td>\n",
       "      <td>...</td>\n",
       "      <td>...</td>\n",
       "      <td>...</td>\n",
       "      <td>...</td>\n",
       "      <td>...</td>\n",
       "      <td>...</td>\n",
       "    </tr>\n",
       "    <tr>\n",
       "      <th>8103625</th>\n",
       "      <td>2020-08-31</td>\n",
       "      <td>3716388476797598507</td>\n",
       "      <td>931769003</td>\n",
       "      <td>0.04235593</td>\n",
       "      <td>2</td>\n",
       "      <td>8</td>\n",
       "      <td>31</td>\n",
       "    </tr>\n",
       "    <tr>\n",
       "      <th>8103626</th>\n",
       "      <td>2020-08-31</td>\n",
       "      <td>3716388476797598507</td>\n",
       "      <td>715624013</td>\n",
       "      <td>0.02540678</td>\n",
       "      <td>2</td>\n",
       "      <td>8</td>\n",
       "      <td>31</td>\n",
       "    </tr>\n",
       "    <tr>\n",
       "      <th>8103627</th>\n",
       "      <td>2020-08-31</td>\n",
       "      <td>3716388476797598507</td>\n",
       "      <td>715624013</td>\n",
       "      <td>0.02540678</td>\n",
       "      <td>2</td>\n",
       "      <td>8</td>\n",
       "      <td>31</td>\n",
       "    </tr>\n",
       "    <tr>\n",
       "      <th>8103628</th>\n",
       "      <td>2020-08-31</td>\n",
       "      <td>3716388476797598507</td>\n",
       "      <td>715624053</td>\n",
       "      <td>0.02540678</td>\n",
       "      <td>2</td>\n",
       "      <td>8</td>\n",
       "      <td>31</td>\n",
       "    </tr>\n",
       "    <tr>\n",
       "      <th>8103629</th>\n",
       "      <td>2020-08-31</td>\n",
       "      <td>3716388476797598507</td>\n",
       "      <td>715624053</td>\n",
       "      <td>0.02540678</td>\n",
       "      <td>2</td>\n",
       "      <td>8</td>\n",
       "      <td>31</td>\n",
       "    </tr>\n",
       "  </tbody>\n",
       "</table>\n",
       "<p>1373569 rows × 7 columns</p>\n",
       "</div>"
      ],
      "text/plain": [
       "             t_dat          customer_id  article_id      price  sales_channel_id  month  day\n",
       "9       2020-03-01 -7024693905701963300   794320006 0.04235593                 2      3    1\n",
       "10      2020-03-01 -7024693905701963300   794320006 0.04235593                 2      3    1\n",
       "19      2020-03-01  5199955052963697108   851866001 0.06584746                 2      3    1\n",
       "20      2020-03-01  5199955052963697108   851866001 0.06584746                 2      3    1\n",
       "24      2020-03-01  3051518411062988268   579302001 0.03388136                 2      3    1\n",
       "...            ...                  ...         ...        ...               ...    ...  ...\n",
       "8103625 2020-08-31  3716388476797598507   931769003 0.04235593                 2      8   31\n",
       "8103626 2020-08-31  3716388476797598507   715624013 0.02540678                 2      8   31\n",
       "8103627 2020-08-31  3716388476797598507   715624013 0.02540678                 2      8   31\n",
       "8103628 2020-08-31  3716388476797598507   715624053 0.02540678                 2      8   31\n",
       "8103629 2020-08-31  3716388476797598507   715624053 0.02540678                 2      8   31\n",
       "\n",
       "[1373569 rows x 7 columns]"
      ]
     },
     "execution_count": 7,
     "metadata": {},
     "output_type": "execute_result"
    }
   ],
   "source": [
    "transactions[transactions.duplicated(keep=False)]"
   ]
  },
  {
   "cell_type": "markdown",
   "id": "40292712-0624-4245-9ec1-806af15b8df5",
   "metadata": {},
   "source": [
    "#### 1. customer_id\n",
    "- may dive into customers' info"
   ]
  },
  {
   "cell_type": "code",
   "execution_count": 8,
   "id": "26e640f6-8151-411e-9fed-784951016adc",
   "metadata": {},
   "outputs": [
    {
     "name": "stdout",
     "output_type": "stream",
     "text": [
      "There are 741661 customeres in total. \n",
      "Assuming on average, a customer has 10.93 purchases.\n"
     ]
    }
   ],
   "source": [
    "num_customers = transactions.customer_id.nunique()\n",
    "\n",
    "print(f\"There are {num_customers} customeres in total. \\n\\\n",
    "Assuming on average, a customer has {round(transactions.shape[0]/num_customers,2)} purchases.\")"
   ]
  },
  {
   "cell_type": "code",
   "execution_count": 9,
   "id": "71b94812-9b00-48c0-92e4-7d339f7eb832",
   "metadata": {},
   "outputs": [
    {
     "data": {
      "text/html": [
       "<div>\n",
       "<style scoped>\n",
       "    .dataframe tbody tr th:only-of-type {\n",
       "        vertical-align: middle;\n",
       "    }\n",
       "\n",
       "    .dataframe tbody tr th {\n",
       "        vertical-align: top;\n",
       "    }\n",
       "\n",
       "    .dataframe thead th {\n",
       "        text-align: right;\n",
       "    }\n",
       "</style>\n",
       "<table border=\"1\" class=\"dataframe\">\n",
       "  <thead>\n",
       "    <tr style=\"text-align: right;\">\n",
       "      <th></th>\n",
       "      <th>customer_id</th>\n",
       "      <th>cnt</th>\n",
       "    </tr>\n",
       "  </thead>\n",
       "  <tbody>\n",
       "    <tr>\n",
       "      <th>0</th>\n",
       "      <td>-4137963391721325</td>\n",
       "      <td>626</td>\n",
       "    </tr>\n",
       "    <tr>\n",
       "      <th>1</th>\n",
       "      <td>-6030179180003346623</td>\n",
       "      <td>553</td>\n",
       "    </tr>\n",
       "    <tr>\n",
       "      <th>2</th>\n",
       "      <td>5854009424779598107</td>\n",
       "      <td>531</td>\n",
       "    </tr>\n",
       "    <tr>\n",
       "      <th>3</th>\n",
       "      <td>4111181464026910813</td>\n",
       "      <td>524</td>\n",
       "    </tr>\n",
       "    <tr>\n",
       "      <th>4</th>\n",
       "      <td>-7809212811262987408</td>\n",
       "      <td>523</td>\n",
       "    </tr>\n",
       "    <tr>\n",
       "      <th>...</th>\n",
       "      <td>...</td>\n",
       "      <td>...</td>\n",
       "    </tr>\n",
       "    <tr>\n",
       "      <th>741656</th>\n",
       "      <td>-6826260019360104797</td>\n",
       "      <td>1</td>\n",
       "    </tr>\n",
       "    <tr>\n",
       "      <th>741657</th>\n",
       "      <td>-986927141802711131</td>\n",
       "      <td>1</td>\n",
       "    </tr>\n",
       "    <tr>\n",
       "      <th>741658</th>\n",
       "      <td>-8697328286204121985</td>\n",
       "      <td>1</td>\n",
       "    </tr>\n",
       "    <tr>\n",
       "      <th>741659</th>\n",
       "      <td>-3473019032615275217</td>\n",
       "      <td>1</td>\n",
       "    </tr>\n",
       "    <tr>\n",
       "      <th>741660</th>\n",
       "      <td>-4667891211814920407</td>\n",
       "      <td>1</td>\n",
       "    </tr>\n",
       "  </tbody>\n",
       "</table>\n",
       "<p>741661 rows × 2 columns</p>\n",
       "</div>"
      ],
      "text/plain": [
       "                customer_id  cnt\n",
       "0         -4137963391721325  626\n",
       "1      -6030179180003346623  553\n",
       "2       5854009424779598107  531\n",
       "3       4111181464026910813  524\n",
       "4      -7809212811262987408  523\n",
       "...                     ...  ...\n",
       "741656 -6826260019360104797    1\n",
       "741657  -986927141802711131    1\n",
       "741658 -8697328286204121985    1\n",
       "741659 -3473019032615275217    1\n",
       "741660 -4667891211814920407    1\n",
       "\n",
       "[741661 rows x 2 columns]"
      ]
     },
     "execution_count": 9,
     "metadata": {},
     "output_type": "execute_result"
    }
   ],
   "source": [
    "trans_per_cus_df = transactions.customer_id.value_counts().sort_values(ascending = False).reset_index().rename(columns = {'index':'customer_id','customer_id':'cnt'})\n",
    "trans_per_cus_df"
   ]
  },
  {
   "cell_type": "code",
   "execution_count": 10,
   "id": "087a0655-107c-477b-be5a-48e9ac59c692",
   "metadata": {},
   "outputs": [
    {
     "data": {
      "text/html": [
       "<div>\n",
       "<style scoped>\n",
       "    .dataframe tbody tr th:only-of-type {\n",
       "        vertical-align: middle;\n",
       "    }\n",
       "\n",
       "    .dataframe tbody tr th {\n",
       "        vertical-align: top;\n",
       "    }\n",
       "\n",
       "    .dataframe thead th {\n",
       "        text-align: right;\n",
       "    }\n",
       "</style>\n",
       "<table border=\"1\" class=\"dataframe\">\n",
       "  <thead>\n",
       "    <tr style=\"text-align: right;\">\n",
       "      <th></th>\n",
       "      <th>customer_id</th>\n",
       "      <th>cnt</th>\n",
       "    </tr>\n",
       "  </thead>\n",
       "  <tbody>\n",
       "    <tr>\n",
       "      <th>count</th>\n",
       "      <td>741,661.0</td>\n",
       "      <td>741,661.0</td>\n",
       "    </tr>\n",
       "    <tr>\n",
       "      <th>mean</th>\n",
       "      <td>-1.142701e+16</td>\n",
       "      <td>10.92635</td>\n",
       "    </tr>\n",
       "    <tr>\n",
       "      <th>std</th>\n",
       "      <td>5.325942e+18</td>\n",
       "      <td>14.39862</td>\n",
       "    </tr>\n",
       "    <tr>\n",
       "      <th>min</th>\n",
       "      <td>-9.223353e+18</td>\n",
       "      <td>1.0</td>\n",
       "    </tr>\n",
       "    <tr>\n",
       "      <th>25%</th>\n",
       "      <td>-4.626033e+18</td>\n",
       "      <td>3.0</td>\n",
       "    </tr>\n",
       "    <tr>\n",
       "      <th>50%</th>\n",
       "      <td>-1.495514e+16</td>\n",
       "      <td>6.0</td>\n",
       "    </tr>\n",
       "    <tr>\n",
       "      <th>75%</th>\n",
       "      <td>4.597675e+18</td>\n",
       "      <td>13.0</td>\n",
       "    </tr>\n",
       "    <tr>\n",
       "      <th>max</th>\n",
       "      <td>9.223148e+18</td>\n",
       "      <td>626.0</td>\n",
       "    </tr>\n",
       "  </tbody>\n",
       "</table>\n",
       "</div>"
      ],
      "text/plain": [
       "        customer_id       cnt\n",
       "count     741,661.0 741,661.0\n",
       "mean  -1.142701e+16  10.92635\n",
       "std    5.325942e+18  14.39862\n",
       "min   -9.223353e+18       1.0\n",
       "25%   -4.626033e+18       3.0\n",
       "50%   -1.495514e+16       6.0\n",
       "75%    4.597675e+18      13.0\n",
       "max    9.223148e+18     626.0"
      ]
     },
     "execution_count": 10,
     "metadata": {},
     "output_type": "execute_result"
    }
   ],
   "source": [
    "trans_per_cus_df.describe()"
   ]
  },
  {
   "cell_type": "code",
   "execution_count": 11,
   "id": "5c0f5847-4b7d-4675-8aed-8d4204e77f89",
   "metadata": {},
   "outputs": [
    {
     "data": {
      "image/png": "[encoded data removed]",
      "text/plain": [
       "<Figure size 432x432 with 1 Axes>"
      ]
     },
     "metadata": {},
     "output_type": "display_data"
    }
   ],
   "source": [
    "trans_per_cus_df['purchases_range'] = pd.cut(trans_per_cus_df.cnt, [0,5,10,15,630],labels=['less than 5','5-10','10-15','more than 15'])\n",
    "trans_per_cus_df.purchases_range.value_counts().sort_index().plot.pie(title = \"Customer segmentation by number of purchases\",\n",
    "                                                                      legend = True, autopct='%1.0f%%', fontsize=10, colormap = 'Blues',\n",
    "                                                                      figsize=(6,6))\n",
    "None"
   ]
  },
  {
   "cell_type": "code",
   "execution_count": 12,
   "id": "2d71873b-38a8-4b61-85e9-fd50213dbc6d",
   "metadata": {},
   "outputs": [
    {
     "name": "stdout",
     "output_type": "stream",
     "text": [
      "9.92% of customers only have 1 purchase.\n"
     ]
    }
   ],
   "source": [
    "# 73549\n",
    "print(f\"{round(trans_per_cus_df[trans_per_cus_df.cnt == 1].shape[0]/num_customers*100,2)}% of customers only have 1 purchase.\")"
   ]
  },
  {
   "cell_type": "markdown",
   "id": "dbb633e5-aaac-4189-a215-05d00971fc93",
   "metadata": {},
   "source": [
    "#### 2. article_id\n",
    "- may dive into articles' info"
   ]
  },
  {
   "cell_type": "code",
   "execution_count": 13,
   "id": "efe0d365-628c-4001-9cf7-c4ff6a1091d9",
   "metadata": {},
   "outputs": [
    {
     "data": {
      "text/html": [
       "<div>\n",
       "<style scoped>\n",
       "    .dataframe tbody tr th:only-of-type {\n",
       "        vertical-align: middle;\n",
       "    }\n",
       "\n",
       "    .dataframe tbody tr th {\n",
       "        vertical-align: top;\n",
       "    }\n",
       "\n",
       "    .dataframe thead th {\n",
       "        text-align: right;\n",
       "    }\n",
       "</style>\n",
       "<table border=\"1\" class=\"dataframe\">\n",
       "  <thead>\n",
       "    <tr style=\"text-align: right;\">\n",
       "      <th></th>\n",
       "      <th>article</th>\n",
       "      <th>cnt</th>\n",
       "    </tr>\n",
       "  </thead>\n",
       "  <tbody>\n",
       "    <tr>\n",
       "      <th>0</th>\n",
       "      <td>706016001</td>\n",
       "      <td>12252</td>\n",
       "    </tr>\n",
       "    <tr>\n",
       "      <th>1</th>\n",
       "      <td>610776002</td>\n",
       "      <td>11213</td>\n",
       "    </tr>\n",
       "    <tr>\n",
       "      <th>2</th>\n",
       "      <td>759871002</td>\n",
       "      <td>10343</td>\n",
       "    </tr>\n",
       "    <tr>\n",
       "      <th>3</th>\n",
       "      <td>610776001</td>\n",
       "      <td>9517</td>\n",
       "    </tr>\n",
       "    <tr>\n",
       "      <th>4</th>\n",
       "      <td>599580038</td>\n",
       "      <td>9499</td>\n",
       "    </tr>\n",
       "    <tr>\n",
       "      <th>...</th>\n",
       "      <td>...</td>\n",
       "      <td>...</td>\n",
       "    </tr>\n",
       "    <tr>\n",
       "      <th>50594</th>\n",
       "      <td>500153009</td>\n",
       "      <td>1</td>\n",
       "    </tr>\n",
       "    <tr>\n",
       "      <th>50595</th>\n",
       "      <td>619241002</td>\n",
       "      <td>1</td>\n",
       "    </tr>\n",
       "    <tr>\n",
       "      <th>50596</th>\n",
       "      <td>576341001</td>\n",
       "      <td>1</td>\n",
       "    </tr>\n",
       "    <tr>\n",
       "      <th>50597</th>\n",
       "      <td>742262001</td>\n",
       "      <td>1</td>\n",
       "    </tr>\n",
       "    <tr>\n",
       "      <th>50598</th>\n",
       "      <td>675662009</td>\n",
       "      <td>1</td>\n",
       "    </tr>\n",
       "  </tbody>\n",
       "</table>\n",
       "<p>50599 rows × 2 columns</p>\n",
       "</div>"
      ],
      "text/plain": [
       "         article    cnt\n",
       "0      706016001  12252\n",
       "1      610776002  11213\n",
       "2      759871002  10343\n",
       "3      610776001   9517\n",
       "4      599580038   9499\n",
       "...          ...    ...\n",
       "50594  500153009      1\n",
       "50595  619241002      1\n",
       "50596  576341001      1\n",
       "50597  742262001      1\n",
       "50598  675662009      1\n",
       "\n",
       "[50599 rows x 2 columns]"
      ]
     },
     "execution_count": 13,
     "metadata": {},
     "output_type": "execute_result"
    }
   ],
   "source": [
    "article_purchased_freq = transactions.article_id.value_counts().sort_values(ascending=False).reset_index().rename(columns = {'index':'article','article_id':'cnt'})\n",
    "article_purchased_freq"
   ]
  },
  {
   "cell_type": "code",
   "execution_count": 14,
   "id": "6c984446-0fad-4b5c-92da-03fcd0bde491",
   "metadata": {},
   "outputs": [
    {
     "data": {
      "text/html": [
       "<div>\n",
       "<style scoped>\n",
       "    .dataframe tbody tr th:only-of-type {\n",
       "        vertical-align: middle;\n",
       "    }\n",
       "\n",
       "    .dataframe tbody tr th {\n",
       "        vertical-align: top;\n",
       "    }\n",
       "\n",
       "    .dataframe thead th {\n",
       "        text-align: right;\n",
       "    }\n",
       "</style>\n",
       "<table border=\"1\" class=\"dataframe\">\n",
       "  <thead>\n",
       "    <tr style=\"text-align: right;\">\n",
       "      <th></th>\n",
       "      <th>article</th>\n",
       "      <th>cnt</th>\n",
       "    </tr>\n",
       "  </thead>\n",
       "  <tbody>\n",
       "    <tr>\n",
       "      <th>0</th>\n",
       "      <td>706016001</td>\n",
       "      <td>12252</td>\n",
       "    </tr>\n",
       "    <tr>\n",
       "      <th>1</th>\n",
       "      <td>610776002</td>\n",
       "      <td>11213</td>\n",
       "    </tr>\n",
       "    <tr>\n",
       "      <th>2</th>\n",
       "      <td>759871002</td>\n",
       "      <td>10343</td>\n",
       "    </tr>\n",
       "    <tr>\n",
       "      <th>3</th>\n",
       "      <td>610776001</td>\n",
       "      <td>9517</td>\n",
       "    </tr>\n",
       "    <tr>\n",
       "      <th>4</th>\n",
       "      <td>599580038</td>\n",
       "      <td>9499</td>\n",
       "    </tr>\n",
       "    <tr>\n",
       "      <th>5</th>\n",
       "      <td>599580055</td>\n",
       "      <td>9337</td>\n",
       "    </tr>\n",
       "    <tr>\n",
       "      <th>6</th>\n",
       "      <td>372860002</td>\n",
       "      <td>8983</td>\n",
       "    </tr>\n",
       "    <tr>\n",
       "      <th>7</th>\n",
       "      <td>841383002</td>\n",
       "      <td>8692</td>\n",
       "    </tr>\n",
       "    <tr>\n",
       "      <th>8</th>\n",
       "      <td>751471001</td>\n",
       "      <td>8459</td>\n",
       "    </tr>\n",
       "    <tr>\n",
       "      <th>9</th>\n",
       "      <td>741356002</td>\n",
       "      <td>8380</td>\n",
       "    </tr>\n",
       "  </tbody>\n",
       "</table>\n",
       "</div>"
      ],
      "text/plain": [
       "     article    cnt\n",
       "0  706016001  12252\n",
       "1  610776002  11213\n",
       "2  759871002  10343\n",
       "3  610776001   9517\n",
       "4  599580038   9499\n",
       "5  599580055   9337\n",
       "6  372860002   8983\n",
       "7  841383002   8692\n",
       "8  751471001   8459\n",
       "9  741356002   8380"
      ]
     },
     "execution_count": 14,
     "metadata": {},
     "output_type": "execute_result"
    }
   ],
   "source": [
    "# top 10 items to be purchased\n",
    "article_purchased_freq.head(10)"
   ]
  },
  {
   "cell_type": "markdown",
   "id": "aaa4f048-34c3-4d2d-bf1a-0d906e221cd4",
   "metadata": {},
   "source": [
    "#### 3. price\n",
    "- log scale"
   ]
  },
  {
   "cell_type": "code",
   "execution_count": 15,
   "id": "45ef9a52-4e3a-449e-91ff-212c32e5bd71",
   "metadata": {},
   "outputs": [
    {
     "data": {
      "text/plain": [
       "count   8.10365e+06\n",
       "mean     0.02648948\n",
       "std      0.01618386\n",
       "min     3.38983e-05\n",
       "25%      0.01628814\n",
       "50%      0.02438983\n",
       "75%      0.03388136\n",
       "max       0.5067797\n",
       "Name: price, dtype: float64"
      ]
     },
     "execution_count": 15,
     "metadata": {},
     "output_type": "execute_result"
    }
   ],
   "source": [
    "transactions.price.describe()"
   ]
  },
  {
   "cell_type": "code",
   "execution_count": 16,
   "id": "202290d6-306d-4a3f-8c48-054bdd68056f",
   "metadata": {},
   "outputs": [
    {
     "data": {
      "text/html": [
       "<div>\n",
       "<style scoped>\n",
       "    .dataframe tbody tr th:only-of-type {\n",
       "        vertical-align: middle;\n",
       "    }\n",
       "\n",
       "    .dataframe tbody tr th {\n",
       "        vertical-align: top;\n",
       "    }\n",
       "\n",
       "    .dataframe thead th {\n",
       "        text-align: right;\n",
       "    }\n",
       "</style>\n",
       "<table border=\"1\" class=\"dataframe\">\n",
       "  <thead>\n",
       "    <tr style=\"text-align: right;\">\n",
       "      <th></th>\n",
       "      <th>customer_id</th>\n",
       "      <th>sum</th>\n",
       "      <th>count</th>\n",
       "      <th>mean</th>\n",
       "    </tr>\n",
       "  </thead>\n",
       "  <tbody>\n",
       "    <tr>\n",
       "      <th>0</th>\n",
       "      <td>2707728978571693688</td>\n",
       "      <td>1.013559</td>\n",
       "      <td>2</td>\n",
       "      <td>0.5067797</td>\n",
       "    </tr>\n",
       "    <tr>\n",
       "      <th>1</th>\n",
       "      <td>-9201204845672537187</td>\n",
       "      <td>1.266102</td>\n",
       "      <td>3</td>\n",
       "      <td>0.4220339</td>\n",
       "    </tr>\n",
       "    <tr>\n",
       "      <th>2</th>\n",
       "      <td>-3947652016126073184</td>\n",
       "      <td>0.4220339</td>\n",
       "      <td>1</td>\n",
       "      <td>0.4220339</td>\n",
       "    </tr>\n",
       "    <tr>\n",
       "      <th>3</th>\n",
       "      <td>-7683113318005258952</td>\n",
       "      <td>0.4220339</td>\n",
       "      <td>1</td>\n",
       "      <td>0.4220339</td>\n",
       "    </tr>\n",
       "    <tr>\n",
       "      <th>4</th>\n",
       "      <td>-3303478304351630084</td>\n",
       "      <td>1.055085</td>\n",
       "      <td>3</td>\n",
       "      <td>0.3516949</td>\n",
       "    </tr>\n",
       "    <tr>\n",
       "      <th>...</th>\n",
       "      <td>...</td>\n",
       "      <td>...</td>\n",
       "      <td>...</td>\n",
       "      <td>...</td>\n",
       "    </tr>\n",
       "    <tr>\n",
       "      <th>741656</th>\n",
       "      <td>1764701961159360523</td>\n",
       "      <td>0.0008474576</td>\n",
       "      <td>1</td>\n",
       "      <td>0.0008474576</td>\n",
       "    </tr>\n",
       "    <tr>\n",
       "      <th>741657</th>\n",
       "      <td>3201249035369549730</td>\n",
       "      <td>0.0008474576</td>\n",
       "      <td>1</td>\n",
       "      <td>0.0008474576</td>\n",
       "    </tr>\n",
       "    <tr>\n",
       "      <th>741658</th>\n",
       "      <td>-5978354700334852920</td>\n",
       "      <td>0.001661017</td>\n",
       "      <td>2</td>\n",
       "      <td>0.0008305085</td>\n",
       "    </tr>\n",
       "    <tr>\n",
       "      <th>741659</th>\n",
       "      <td>-2356417147797938302</td>\n",
       "      <td>0.0008135593</td>\n",
       "      <td>1</td>\n",
       "      <td>0.0008135593</td>\n",
       "    </tr>\n",
       "    <tr>\n",
       "      <th>741660</th>\n",
       "      <td>-9098949216678610993</td>\n",
       "      <td>0.001118644</td>\n",
       "      <td>4</td>\n",
       "      <td>0.000279661</td>\n",
       "    </tr>\n",
       "  </tbody>\n",
       "</table>\n",
       "<p>741661 rows × 4 columns</p>\n",
       "</div>"
      ],
      "text/plain": [
       "                customer_id          sum  count         mean\n",
       "0       2707728978571693688     1.013559      2    0.5067797\n",
       "1      -9201204845672537187     1.266102      3    0.4220339\n",
       "2      -3947652016126073184    0.4220339      1    0.4220339\n",
       "3      -7683113318005258952    0.4220339      1    0.4220339\n",
       "4      -3303478304351630084     1.055085      3    0.3516949\n",
       "...                     ...          ...    ...          ...\n",
       "741656  1764701961159360523 0.0008474576      1 0.0008474576\n",
       "741657  3201249035369549730 0.0008474576      1 0.0008474576\n",
       "741658 -5978354700334852920  0.001661017      2 0.0008305085\n",
       "741659 -2356417147797938302 0.0008135593      1 0.0008135593\n",
       "741660 -9098949216678610993  0.001118644      4  0.000279661\n",
       "\n",
       "[741661 rows x 4 columns]"
      ]
     },
     "execution_count": 16,
     "metadata": {},
     "output_type": "execute_result"
    }
   ],
   "source": [
    "customer_spending_df = transactions.groupby(['customer_id']).price.agg(['sum','count','mean']).sort_values(by='mean',ascending=False).reset_index()\n",
    "customer_spending_df"
   ]
  },
  {
   "cell_type": "code",
   "execution_count": 17,
   "id": "921b2191-1dba-4582-ac66-7288ab52c6c0",
   "metadata": {},
   "outputs": [
    {
     "data": {
      "text/html": [
       "<div>\n",
       "<style scoped>\n",
       "    .dataframe tbody tr th:only-of-type {\n",
       "        vertical-align: middle;\n",
       "    }\n",
       "\n",
       "    .dataframe tbody tr th {\n",
       "        vertical-align: top;\n",
       "    }\n",
       "\n",
       "    .dataframe thead th {\n",
       "        text-align: right;\n",
       "    }\n",
       "</style>\n",
       "<table border=\"1\" class=\"dataframe\">\n",
       "  <thead>\n",
       "    <tr style=\"text-align: right;\">\n",
       "      <th></th>\n",
       "      <th>customer_id</th>\n",
       "      <th>sum</th>\n",
       "      <th>count</th>\n",
       "      <th>mean</th>\n",
       "    </tr>\n",
       "  </thead>\n",
       "  <tbody>\n",
       "    <tr>\n",
       "      <th>count</th>\n",
       "      <td>741,661.0</td>\n",
       "      <td>741,661.0</td>\n",
       "      <td>741,661.0</td>\n",
       "      <td>741,661.0</td>\n",
       "    </tr>\n",
       "    <tr>\n",
       "      <th>mean</th>\n",
       "      <td>-1.142701e+16</td>\n",
       "      <td>0.288241</td>\n",
       "      <td>10.92635</td>\n",
       "      <td>0.02689859</td>\n",
       "    </tr>\n",
       "    <tr>\n",
       "      <th>std</th>\n",
       "      <td>5.325942e+18</td>\n",
       "      <td>0.4161853</td>\n",
       "      <td>14.39862</td>\n",
       "      <td>0.01208835</td>\n",
       "    </tr>\n",
       "    <tr>\n",
       "      <th>min</th>\n",
       "      <td>-9.223353e+18</td>\n",
       "      <td>0.0008135593</td>\n",
       "      <td>1.0</td>\n",
       "      <td>0.000279661</td>\n",
       "    </tr>\n",
       "    <tr>\n",
       "      <th>25%</th>\n",
       "      <td>-4.626033e+18</td>\n",
       "      <td>0.06861017</td>\n",
       "      <td>3.0</td>\n",
       "      <td>0.01961582</td>\n",
       "    </tr>\n",
       "    <tr>\n",
       "      <th>50%</th>\n",
       "      <td>-1.495514e+16</td>\n",
       "      <td>0.1561864</td>\n",
       "      <td>6.0</td>\n",
       "      <td>0.02501564</td>\n",
       "    </tr>\n",
       "    <tr>\n",
       "      <th>75%</th>\n",
       "      <td>4.597675e+18</td>\n",
       "      <td>0.3411017</td>\n",
       "      <td>13.0</td>\n",
       "      <td>0.03162147</td>\n",
       "    </tr>\n",
       "    <tr>\n",
       "      <th>max</th>\n",
       "      <td>9.223148e+18</td>\n",
       "      <td>26.13324</td>\n",
       "      <td>626.0</td>\n",
       "      <td>0.5067797</td>\n",
       "    </tr>\n",
       "  </tbody>\n",
       "</table>\n",
       "</div>"
      ],
      "text/plain": [
       "        customer_id          sum     count        mean\n",
       "count     741,661.0    741,661.0 741,661.0   741,661.0\n",
       "mean  -1.142701e+16     0.288241  10.92635  0.02689859\n",
       "std    5.325942e+18    0.4161853  14.39862  0.01208835\n",
       "min   -9.223353e+18 0.0008135593       1.0 0.000279661\n",
       "25%   -4.626033e+18   0.06861017       3.0  0.01961582\n",
       "50%   -1.495514e+16    0.1561864       6.0  0.02501564\n",
       "75%    4.597675e+18    0.3411017      13.0  0.03162147\n",
       "max    9.223148e+18     26.13324     626.0   0.5067797"
      ]
     },
     "execution_count": 17,
     "metadata": {},
     "output_type": "execute_result"
    }
   ],
   "source": [
    "customer_spending_df.describe()"
   ]
  },
  {
   "cell_type": "code",
   "execution_count": 18,
   "id": "d24bea95-85ec-499d-8796-5386b0aabad3",
   "metadata": {},
   "outputs": [
    {
     "data": {
      "text/plain": [
       "<AxesSubplot:xlabel='count', ylabel='sum'>"
      ]
     },
     "execution_count": 18,
     "metadata": {},
     "output_type": "execute_result"
    },
    {
     "data": {
      "image/png": "[encoded data removed]",
      "text/plain": [
       "<Figure size 432x288 with 1 Axes>"
      ]
     },
     "metadata": {
      "needs_background": "light"
     },
     "output_type": "display_data"
    }
   ],
   "source": [
    "sns.scatterplot(x='count',y='sum',data = customer_spending_df)\n",
    "# -> upper triangle: customers buy products with higher prices\n",
    "# -> lower triangle: customers buy products with lower prices. [more]"
   ]
  },
  {
   "cell_type": "markdown",
   "id": "ef837773-dba8-4518-af5e-94acab6bec26",
   "metadata": {},
   "source": [
    "#### 4. sales_channel_id\n",
    "- 1/2 : online/offline"
   ]
  },
  {
   "cell_type": "code",
   "execution_count": 19,
   "id": "0fbb8180-0d19-4f5a-b084-ec2a5106da47",
   "metadata": {},
   "outputs": [
    {
     "name": "stdout",
     "output_type": "stream",
     "text": [
      "2    6019825\n",
      "1    2083825\n",
      "Name: sales_channel_id, dtype: int64\n"
     ]
    },
    {
     "data": {
      "image/png": "[encoded data removed]",
      "text/plain": [
       "<Figure size 432x432 with 1 Axes>"
      ]
     },
     "metadata": {},
     "output_type": "display_data"
    }
   ],
   "source": [
    "sales_channels_df = transactions.sales_channel_id.value_counts()\n",
    "print(sales_channels_df)\n",
    "\n",
    "sales_channels_df.plot.pie(title = \"sales channel percentages\",legend = True, labels=['offline','online'],\n",
    "                           autopct='%1.0f%%', fontsize=10, colormap = 'tab20c',figsize=(6,6))\n",
    "None"
   ]
  },
  {
   "cell_type": "code",
   "execution_count": 20,
   "id": "50910a1b-1e6e-4067-b68f-7c4bc865b353",
   "metadata": {},
   "outputs": [
    {
     "data": {
      "text/plain": [
       "customer_id           sales_channel_id\n",
       "-9223352921020755230  1                    2\n",
       "-9223343869995384291  2                   26\n",
       "-9223295149301589789  2                    7\n",
       "-9223293121067732640  1                    1\n",
       "                      2                    8\n",
       "                                          ..\n",
       " 9223099843213569889  2                   43\n",
       " 9223103796055095238  2                    2\n",
       " 9223108375636425507  2                    5\n",
       " 9223144259947635662  1                    6\n",
       " 9223148401910457466  1                   15\n",
       "Length: 932082, dtype: int64"
      ]
     },
     "execution_count": 20,
     "metadata": {},
     "output_type": "execute_result"
    }
   ],
   "source": [
    "customer_channel_preference_df = transactions.groupby(['customer_id','sales_channel_id']).size()\n",
    "\n",
    "customer_channel_preference_df"
   ]
  },
  {
   "cell_type": "code",
   "execution_count": 21,
   "id": "45fecf6e-ddf2-4940-943a-32494e081afb",
   "metadata": {},
   "outputs": [],
   "source": [
    "online_transactions = transactions[transactions.sales_channel_id == 1]\n",
    "offline_transactions = transactions[transactions.sales_channel_id == 2]\n",
    "\n",
    "\n",
    "mask = (transactions['customer_id'].isin(online_transactions['customer_id']) & transactions['customer_id'].isin(offline_transactions['customer_id']))\n",
    "purchase_both_channels = transactions[mask]\n",
    "\n",
    "mask = online_transactions['customer_id'].isin(purchase_both_channels['customer_id'])\n",
    "purchase_only_online = online_transactions[~mask]\n",
    "\n",
    "mask = offline_transactions['customer_id'].isin(purchase_both_channels['customer_id'])\n",
    "purchase_only_offline = offline_transactions[~mask]"
   ]
  },
  {
   "cell_type": "code",
   "execution_count": 22,
   "id": "eea62e2d-d5cd-45be-add9-316f9bac0be2",
   "metadata": {},
   "outputs": [],
   "source": [
    "#sns.countplot(data=purchase_both_channels,x='customer_id', hue='sales_channel_id')\n",
    "#purchase_both_channels.groupby(['customer_id','sales_channel_id']).size().unstack('sales_channel_id').plot.bar()"
   ]
  },
  {
   "cell_type": "code",
   "execution_count": 23,
   "id": "4a11d778-f608-4f01-be1d-d1d8be07df91",
   "metadata": {},
   "outputs": [
    {
     "data": {
      "image/png": "[encoded data removed]",
      "text/plain": [
       "<Figure size 432x288 with 1 Axes>"
      ]
     },
     "metadata": {},
     "output_type": "display_data"
    }
   ],
   "source": [
    "cus_both_channel = purchase_both_channels.customer_id.nunique()\n",
    "cus_online = purchase_only_online.customer_id.nunique()\n",
    "cus_offline = purchase_only_offline.customer_id.nunique()\n",
    "\n",
    "assert cus_both_channel+cus_online+cus_offline == num_customers, \"wrong segmentation\"\n",
    "\n",
    "\n",
    "plt.pie([cus_both_channel/num_customers, cus_online/num_customers, cus_offline/num_customers], \n",
    "        labels = ['customers purchased on both channels', 'customers only shop online ', 'customer only shop offline'], \n",
    "        colors = ['skyblue', 'cornflowerblue', 'steelblue'], radius = 1.5, autopct='%.2f%%')\n",
    "plt.show()"
   ]
  },
  {
   "cell_type": "markdown",
   "id": "fa00b339-3e2d-4c40-9b44-593678cf27c1",
   "metadata": {},
   "source": [
    "Among all customers, 20% only shop online, 55% only shop offline, and 25% shop on both channels"
   ]
  },
  {
   "cell_type": "markdown",
   "id": "5396e7b4-c613-4c08-8347-079238895d45",
   "metadata": {},
   "source": [
    "#### 5. month & day"
   ]
  },
  {
   "cell_type": "markdown",
   "id": "1ea6eda9-0c16-42c0-9f23-ee68445338fc",
   "metadata": {},
   "source": [
    "> Month & day are not quite useful for what we do for recommending items, and there is no tendency on orders purchasing along with date.  \n",
    "> May get top 5 purchased articles by month: most popular items (recommending)"
   ]
  },
  {
   "cell_type": "code",
   "execution_count": 24,
   "id": "65c1e8dd-bfa8-45a3-b370-242e0f36c030",
   "metadata": {},
   "outputs": [
    {
     "data": {
      "text/plain": [
       "<AxesSubplot:xlabel='month', ylabel='cnt'>"
      ]
     },
     "execution_count": 24,
     "metadata": {},
     "output_type": "execute_result"
    },
    {
     "data": {
      "image/png": "[encoded data removed]",
      "text/plain": [
       "<Figure size 432x288 with 1 Axes>"
      ]
     },
     "metadata": {
      "needs_background": "light"
     },
     "output_type": "display_data"
    }
   ],
   "source": [
    "month_df = transactions.groupby('month').size().reset_index().rename(columns={0:'cnt'})\n",
    "sns.barplot(data=month_df, x=\"month\", y=\"cnt\", palette=\"Blues_d\")"
   ]
  },
  {
   "cell_type": "code",
   "execution_count": 25,
   "id": "9759bde3-5e11-4654-986f-af491f55d006",
   "metadata": {},
   "outputs": [
    {
     "data": {
      "text/plain": [
       "<AxesSubplot:title={'center':'August'}, xlabel='day'>"
      ]
     },
     "execution_count": 25,
     "metadata": {},
     "output_type": "execute_result"
    },
    {
     "data": {
      "image/png": "[encoded data removed]",
      "text/plain": [
       "<Figure size 1296x648 with 6 Axes>"
      ]
     },
     "metadata": {
      "needs_background": "light"
     },
     "output_type": "display_data"
    }
   ],
   "source": [
    "days_df = transactions.groupby(['month','day']).size().reset_index().rename(columns={0:'cnt'})\n",
    "\n",
    "fig, axes = plt.subplots(nrows=2, ncols=3,figsize=(18,9))\n",
    "\n",
    "days_df[days_df.month==3].plot(kind = 'line', x='day',y='cnt', title='March', ax=axes[0,0])\n",
    "days_df[days_df.month==4].plot(kind = 'line', x='day',y='cnt', title='April', ax=axes[0,1])\n",
    "days_df[days_df.month==5].plot(kind = 'line', x='day',y='cnt', title='May', ax=axes[0,2])\n",
    "days_df[days_df.month==6].plot(kind = 'line', x='day',y='cnt', title='June', ax=axes[1,0])\n",
    "days_df[days_df.month==7].plot(kind = 'line', x='day',y='cnt', title='July', ax=axes[1,1])\n",
    "days_df[days_df.month==8].plot(kind = 'line', x='day',y='cnt', title='August', ax=axes[1,2])"
   ]
  },
  {
   "cell_type": "markdown",
   "id": "0a0c9912-9c67-42e5-8c06-94c2ec0a040d",
   "metadata": {},
   "source": [
    "#### Top 5 articles by each month"
   ]
  },
  {
   "cell_type": "code",
   "execution_count": 26,
   "id": "486a8019-b01d-4d2e-887d-d151dfc5ef89",
   "metadata": {},
   "outputs": [
    {
     "name": "stdout",
     "output_type": "stream",
     "text": [
      "****************** month: 3 *****************\n",
      "706016001    2960\n",
      "720125001    2074\n",
      "762846007    1836\n",
      "706016002    1794\n",
      "841260013    1792\n",
      "Name: article_id, dtype: int64\n",
      "****************** month: 4 *****************\n",
      "599580055    5154\n",
      "610776002    3587\n",
      "741356002    3528\n",
      "559630026    3096\n",
      "610776001    3070\n",
      "Name: article_id, dtype: int64\n",
      "****************** month: 5 *****************\n",
      "684209027    2448\n",
      "599580052    2381\n",
      "599580038    2360\n",
      "741356002    2275\n",
      "688537004    2210\n",
      "Name: article_id, dtype: int64\n",
      "****************** month: 6 *****************\n",
      "817472002    2994\n",
      "599580038    2594\n",
      "817472005    2259\n",
      "599580052    2219\n",
      "759871002    2159\n",
      "Name: article_id, dtype: int64\n",
      "****************** month: 7 *****************\n",
      "706016001    1999\n",
      "372860002    1971\n",
      "730683050    1812\n",
      "866383006    1781\n",
      "610776002    1777\n",
      "Name: article_id, dtype: int64\n",
      "****************** month: 8 *****************\n",
      "916468003    2328\n",
      "751471001    2093\n",
      "706016001    1957\n",
      "918292001    1917\n",
      "866731001    1587\n",
      "Name: article_id, dtype: int64\n"
     ]
    }
   ],
   "source": [
    "for m in [3,4,5,6,7,8]:\n",
    "    print(f\"****************** month: {m} *****************\")\n",
    "    print(transactions[transactions.month == m].article_id.value_counts().head(5))\n",
    "    \n",
    "# could link to images for further analysis"
   ]
  },
  {
   "cell_type": "markdown",
   "id": "3369017d-7d6f-4b1c-afca-1c0c24544182",
   "metadata": {},
   "source": [
    "## Data Cleaning"
   ]
  },
  {
   "cell_type": "markdown",
   "id": "d4368f01-caa1-4bb6-a177-0f49909d8e69",
   "metadata": {},
   "source": [
    "### 1. Delete returned orders"
   ]
  },
  {
   "cell_type": "markdown",
   "id": "77bb14c4-1907-4396-a7a1-b167c3be33de",
   "metadata": {},
   "source": [
    "> H&M return policy(30days):  \n",
    "> https://www2.hm.com/en_in/customer-service/returns.html"
   ]
  },
  {
   "cell_type": "markdown",
   "id": "eedc5db7-2986-482d-bc4d-7b756e5adecb",
   "metadata": {},
   "source": [
    "Assumptions:  \n",
    "**1. If in 30 days two same purchases are found(including price) -> larger probability of returned order -> keep None**  \n",
    "2. If in 30 days multiple same purchases are found(same day) -> larger probability of resale items -> keep One/All;  \n",
    "3. If in 30 days multiple same purchases are found(different days) -> larger probability of neccessaries -> keep All"
   ]
  },
  {
   "cell_type": "code",
   "execution_count": 4,
   "id": "e0b847de-7a43-471a-8690-bea8548c4798",
   "metadata": {},
   "outputs": [],
   "source": [
    "# get all possible duplicated orders\n",
    "returned = transactions[transactions.duplicated(subset=['customer_id','article_id','price'], keep=False)].reset_index() # 1,642,987 x 7\n",
    "\n",
    "# group all duplicated orders\n",
    "grouped_returned_df = returned.groupby(['customer_id','article_id','price']).agg({'t_dat':['first','last','count'],'index':lambda x: list(x)}).reset_index()\n",
    "grouped_returned_df['days_gap'] = grouped_returned_df['t_dat','last'] - grouped_returned_df['t_dat','first']"
   ]
  },
  {
   "cell_type": "code",
   "execution_count": 7,
   "id": "5d68ac4f",
   "metadata": {},
   "outputs": [
    {
     "data": {
      "text/html": [
       "<div>\n",
       "<style scoped>\n",
       "    .dataframe tbody tr th:only-of-type {\n",
       "        vertical-align: middle;\n",
       "    }\n",
       "\n",
       "    .dataframe tbody tr th {\n",
       "        vertical-align: top;\n",
       "    }\n",
       "\n",
       "    .dataframe thead tr th {\n",
       "        text-align: left;\n",
       "    }\n",
       "</style>\n",
       "<table border=\"1\" class=\"dataframe\">\n",
       "  <thead>\n",
       "    <tr>\n",
       "      <th></th>\n",
       "      <th>customer_id</th>\n",
       "      <th>article_id</th>\n",
       "      <th>price</th>\n",
       "      <th colspan=\"3\" halign=\"left\">t_dat</th>\n",
       "      <th>index</th>\n",
       "      <th>days_gap</th>\n",
       "    </tr>\n",
       "    <tr>\n",
       "      <th></th>\n",
       "      <th></th>\n",
       "      <th></th>\n",
       "      <th></th>\n",
       "      <th>first</th>\n",
       "      <th>last</th>\n",
       "      <th>count</th>\n",
       "      <th>&lt;lambda&gt;</th>\n",
       "      <th></th>\n",
       "    </tr>\n",
       "  </thead>\n",
       "  <tbody>\n",
       "    <tr>\n",
       "      <th>0</th>\n",
       "      <td>-9223295149301589789</td>\n",
       "      <td>826620001</td>\n",
       "      <td>0.02879661</td>\n",
       "      <td>2020-04-20</td>\n",
       "      <td>2020-04-26</td>\n",
       "      <td>4</td>\n",
       "      <td>[1967644, 1967645, 2222156, 2222157]</td>\n",
       "      <td>6 days</td>\n",
       "    </tr>\n",
       "    <tr>\n",
       "      <th>1</th>\n",
       "      <td>-9223295149301589789</td>\n",
       "      <td>879294004</td>\n",
       "      <td>0.02032203</td>\n",
       "      <td>2020-04-26</td>\n",
       "      <td>2020-04-26</td>\n",
       "      <td>2</td>\n",
       "      <td>[2222158, 2222159]</td>\n",
       "      <td>0 days</td>\n",
       "    </tr>\n",
       "    <tr>\n",
       "      <th>2</th>\n",
       "      <td>-9223293121067732640</td>\n",
       "      <td>866383008</td>\n",
       "      <td>0.01927119</td>\n",
       "      <td>2020-06-24</td>\n",
       "      <td>2020-06-24</td>\n",
       "      <td>2</td>\n",
       "      <td>[5050691, 5050692]</td>\n",
       "      <td>0 days</td>\n",
       "    </tr>\n",
       "    <tr>\n",
       "      <th>3</th>\n",
       "      <td>-9223290575350349271</td>\n",
       "      <td>733067001</td>\n",
       "      <td>0.01354237</td>\n",
       "      <td>2020-04-26</td>\n",
       "      <td>2020-04-26</td>\n",
       "      <td>2</td>\n",
       "      <td>[2202782, 2202783]</td>\n",
       "      <td>0 days</td>\n",
       "    </tr>\n",
       "    <tr>\n",
       "      <th>4</th>\n",
       "      <td>-9223167985496252139</td>\n",
       "      <td>160442007</td>\n",
       "      <td>0.01354237</td>\n",
       "      <td>2020-06-16</td>\n",
       "      <td>2020-06-16</td>\n",
       "      <td>2</td>\n",
       "      <td>[4399575, 4399576]</td>\n",
       "      <td>0 days</td>\n",
       "    </tr>\n",
       "  </tbody>\n",
       "</table>\n",
       "</div>"
      ],
      "text/plain": [
       "           customer_id article_id      price      t_dat                                                  index days_gap\n",
       "                                                  first       last count                              <lambda>         \n",
       "0 -9223295149301589789  826620001 0.02879661 2020-04-20 2020-04-26     4  [1967644, 1967645, 2222156, 2222157]   6 days\n",
       "1 -9223295149301589789  879294004 0.02032203 2020-04-26 2020-04-26     2                    [2222158, 2222159]   0 days\n",
       "2 -9223293121067732640  866383008 0.01927119 2020-06-24 2020-06-24     2                    [5050691, 5050692]   0 days\n",
       "3 -9223290575350349271  733067001 0.01354237 2020-04-26 2020-04-26     2                    [2202782, 2202783]   0 days\n",
       "4 -9223167985496252139  160442007 0.01354237 2020-06-16 2020-06-16     2                    [4399575, 4399576]   0 days"
      ]
     },
     "execution_count": 7,
     "metadata": {},
     "output_type": "execute_result"
    }
   ],
   "source": [
    "grouped_returned_df.head()"
   ]
  },
  {
   "cell_type": "code",
   "execution_count": 48,
   "id": "f9eb8136",
   "metadata": {},
   "outputs": [],
   "source": [
    "eda_transactions = transactions.copy()\n",
    "eda_transactions['Possible types'] = \"normal order\""
   ]
  },
  {
   "cell_type": "code",
   "execution_count": 49,
   "id": "031f04c8",
   "metadata": {},
   "outputs": [],
   "source": [
    "# assumption1\n",
    "ddl = datetime.timedelta(days=30)\n",
    "assump1 = grouped_returned_df[(grouped_returned_df.days_gap <= ddl) & (grouped_returned_df['t_dat','count'] == 2)]\n",
    "eda_transactions.loc[eda_transactions.index.isin(assump1.explode(('index','<lambda>'))['index','<lambda>']), \n",
    "                     \"Possible types\"] = \"has 2 duplicates \\n within 30 days\"\n",
    "\n",
    "# assumption2\n",
    "assump2 = grouped_returned_df[(grouped_returned_df.days_gap <= ddl) & (grouped_returned_df['t_dat','count'] > 2)]\n",
    "eda_transactions.loc[eda_transactions.index.isin(assump2.explode(('index','<lambda>'))['index','<lambda>']), \n",
    "                     \"Possible types\"] = \"has >2 duplicates \\n within 30 days\"\n",
    "\n",
    "# assumption3\n",
    "assump3 = grouped_returned_df[(grouped_returned_df.days_gap > ddl) & (grouped_returned_df['t_dat','count'] > 2)]\n",
    "eda_transactions.loc[eda_transactions.index.isin(assump3.explode(('index','<lambda>'))['index','<lambda>']), \n",
    "                     \"Possible types\"] = \"has >2 duplicates \\n exceed 30 days\""
   ]
  },
  {
   "cell_type": "code",
   "execution_count": 68,
   "id": "5a38e03e",
   "metadata": {},
   "outputs": [
    {
     "data": {
      "text/plain": [
       "<AxesSubplot:>"
      ]
     },
     "execution_count": 68,
     "metadata": {},
     "output_type": "execute_result"
    },
    {
     "data": {
      "image/png": "[encoded data removed]",
      "text/plain": [
       "<Figure size 432x288 with 1 Axes>"
      ]
     },
     "metadata": {
      "needs_background": "light"
     },
     "output_type": "display_data"
    }
   ],
   "source": [
    "eda_transactions['Possible types'].value_counts().plot(kind='bar',rot = 0, cmap = 'Oranges_r',figsize = (6,4))"
   ]
  },
  {
   "cell_type": "code",
   "execution_count": 69,
   "id": "d2c834d3",
   "metadata": {},
   "outputs": [],
   "source": [
    "vis_returned_types = eda_transactions['Possible types'].value_counts().reset_index().rename(columns={'index':'Types','Possible types':'cnt'})"
   ]
  },
  {
   "cell_type": "code",
   "execution_count": 81,
   "id": "4a469120",
   "metadata": {},
   "outputs": [
    {
     "data": {
      "text/plain": [
       "Text(0.5, 1.0, 'Possible types of orders')"
      ]
     },
     "execution_count": 81,
     "metadata": {},
     "output_type": "execute_result"
    },
    {
     "data": {
      "image/png": "[encoded data removed]",
      "text/plain": [
       "<Figure size 432x288 with 1 Axes>"
      ]
     },
     "metadata": {},
     "output_type": "display_data"
    }
   ],
   "source": [
    "sns.barplot(data = vis_returned_types,x='Types',y = 'cnt',palette = 'Reds_r',alpha = 0.8)\n",
    "sns.set_style('darkgrid')\n",
    "plt.title('Possible types of orders')"
   ]
  },
  {
   "cell_type": "code",
   "execution_count": 67,
   "id": "9dcb72c0",
   "metadata": {},
   "outputs": [
    {
     "data": {
      "text/plain": [
       "<AxesSubplot:ylabel='Possible types'>"
      ]
     },
     "execution_count": 67,
     "metadata": {},
     "output_type": "execute_result"
    },
    {
     "data": {
      "image/png": "[encoded data removed]",
      "text/plain": [
       "<Figure size 432x288 with 1 Axes>"
      ]
     },
     "metadata": {},
     "output_type": "display_data"
    }
   ],
   "source": [
    "eda_transactions['Possible types'].value_counts().plot(kind='pie', cmap = 'Reds_r',figsize = (6,4))"
   ]
  },
  {
   "cell_type": "code",
   "execution_count": 5,
   "id": "fa82c811-88ec-4d72-854f-8733bc99f8be",
   "metadata": {},
   "outputs": [
    {
     "data": {
      "text/plain": [
       "count                        750510\n",
       "mean      2 days 15:16:32.493104688\n",
       "std      11 days 11:21:14.716320697\n",
       "min                 0 days 00:00:00\n",
       "25%                 0 days 00:00:00\n",
       "50%                 0 days 00:00:00\n",
       "75%                 0 days 00:00:00\n",
       "max               182 days 00:00:00\n",
       "Name: days_gap, dtype: object"
      ]
     },
     "execution_count": 5,
     "metadata": {},
     "output_type": "execute_result"
    }
   ],
   "source": [
    "grouped_returned_df['days_gap'].describe() # mostly are returned on the same day they were bought"
   ]
  },
  {
   "cell_type": "code",
   "execution_count": 6,
   "id": "a83012f5-8e42-402b-a705-0f2097dd2b81",
   "metadata": {},
   "outputs": [],
   "source": [
    "# cleaning: days_gap <= 30 & count == 2\n",
    "ddl = datetime.timedelta(days=30)\n",
    "orders_tobe_cleaned = grouped_returned_df[(grouped_returned_df.days_gap <= ddl) & (grouped_returned_df['t_dat','count'] == 2)]\n",
    "\n",
    "mask = transactions.index.isin(orders_tobe_cleaned.explode(('index','<lambda>'))['index','<lambda>'])\n",
    "transactions = transactions[~mask]"
   ]
  },
  {
   "cell_type": "code",
   "execution_count": 7,
   "id": "799e38c2-ef29-4996-b55b-2e100d87da15",
   "metadata": {},
   "outputs": [],
   "source": [
    "#tmp = transactions[~mask]\n",
    "#tmp[(tmp.customer_id == -9223295149301589789) & (tmp.article_id == 879294004)]\n",
    "\n",
    "# --> empty  checked!"
   ]
  },
  {
   "cell_type": "markdown",
   "id": "bfda2ea5-0b23-4d25-a0ad-58f08eff9b76",
   "metadata": {},
   "source": [
    "### 2. articles\n",
    "> need to clean for a maching code & name (optional)  \n",
    "> need to clean for filtering major features -> find similarities"
   ]
  },
  {
   "cell_type": "code",
   "execution_count": 8,
   "id": "f5c446e2-d37d-4e16-8729-5d41451bccc8",
   "metadata": {},
   "outputs": [],
   "source": [
    "#print(articles.isnull().sum())\n",
    "#sns.heatmap(articles.isnull())"
   ]
  },
  {
   "cell_type": "code",
   "execution_count": 9,
   "id": "28d3cb08-6689-466d-a104-19d5c97c0424",
   "metadata": {},
   "outputs": [],
   "source": [
    "#assert articles.product_code.nunique() == articles.prod_name.nunique(), \"product_code != product_name\""
   ]
  },
  {
   "cell_type": "code",
   "execution_count": 10,
   "id": "2128d1b1-de09-4fe6-9a23-5401364c6ad4",
   "metadata": {},
   "outputs": [
    {
     "data": {
      "text/plain": [
       "array(['Spanx alot shape Swimsuit', 'SPANX ALOT swimsuit (1)', 'Spanx alot Swimsuit'], dtype=object)"
      ]
     },
     "execution_count": 10,
     "metadata": {},
     "output_type": "execute_result"
    }
   ],
   "source": [
    "# eg.\n",
    "articles[articles.product_code == 188183].prod_name.unique()"
   ]
  },
  {
   "cell_type": "code",
   "execution_count": 11,
   "id": "a1cd0a59-6add-4ed6-8a9e-aded83627626",
   "metadata": {},
   "outputs": [],
   "source": [
    "#assert articles.product_type_no.nunique() == articles.product_type_name.nunique(), \"product_type_no != product_type_name\""
   ]
  },
  {
   "cell_type": "code",
   "execution_count": 12,
   "id": "3df69b31-e34b-47f4-9d4a-236283d344cf",
   "metadata": {},
   "outputs": [
    {
     "data": {
      "text/plain": [
       "array([532,  83])"
      ]
     },
     "execution_count": 12,
     "metadata": {},
     "output_type": "execute_result"
    }
   ],
   "source": [
    "# found\n",
    "articles[articles.product_type_name == 'Umbrella'].product_type_no.unique()"
   ]
  },
  {
   "cell_type": "code",
   "execution_count": 13,
   "id": "231c5c4c-7ded-40a1-a6fd-e5d2b04a45de",
   "metadata": {},
   "outputs": [],
   "source": [
    "#assert articles.department_no.nunique() == articles.department_name.nunique(), \"department_no != department_name\""
   ]
  },
  {
   "cell_type": "code",
   "execution_count": 14,
   "id": "9d7bb7fe-80bf-4c45-8c77-d2e4d4fac770",
   "metadata": {},
   "outputs": [
    {
     "data": {
      "text/plain": [
       "array([9985, 3510, 7530, 3941])"
      ]
     },
     "execution_count": 14,
     "metadata": {},
     "output_type": "execute_result"
    }
   ],
   "source": [
    "# eg.\n",
    "articles[articles.department_name=='Accessories'].department_no.unique()"
   ]
  },
  {
   "cell_type": "markdown",
   "id": "6f66af82-c4de-4123-bdd7-69856bbbfca2",
   "metadata": {},
   "source": [
    "<span style=\"color:darkred\"> name & code doesnt match -> prefer only use names</span>"
   ]
  },
  {
   "cell_type": "markdown",
   "id": "9a7137f1-4f57-410c-b684-50f1042c9b26",
   "metadata": {},
   "source": [
    "#### 2.1. Data Cleaning - colors"
   ]
  },
  {
   "cell_type": "code",
   "execution_count": 15,
   "id": "150b39eb-01c8-408b-b1f0-cf7eeada3090",
   "metadata": {},
   "outputs": [
    {
     "data": {
      "text/plain": [
       "array(['Black', 'White', 'Beige', 'Blue', 'Grey', 'Mole', 'Orange', 'Metal', 'Lilac Purple', 'Brown', 'Pink', 'Red', 'Green', 'Khaki green', 'undefined', 'Turquoise', 'Yellow', 'Unknown', 'Yellowish Green', 'Bluish Green'], dtype=object)"
      ]
     },
     "execution_count": 15,
     "metadata": {},
     "output_type": "execute_result"
    }
   ],
   "source": [
    "articles.perceived_colour_master_name.unique()"
   ]
  },
  {
   "cell_type": "code",
   "execution_count": 16,
   "id": "27abd0bc-e2ce-464d-a317-1a1e9664398b",
   "metadata": {},
   "outputs": [],
   "source": [
    "# Deal with Unknown first\n",
    "articles.loc[articles.perceived_colour_master_name == 'Unknown','perceived_colour_master_name'] =\\\n",
    "articles.loc[articles.perceived_colour_master_name == 'Unknown','colour_group_name']\n",
    "\n",
    "articles.loc[articles.article_id == 592986010,'perceived_colour_master_name'] = 'Dark Grey'\n",
    "articles.loc[articles.article_id == 696124001,'perceived_colour_master_name'] = 'Black'\n",
    "articles.loc[articles.article_id == 696124002,'perceived_colour_master_name'] = 'Pink'\n",
    "articles.loc[articles.article_id == 696500001,'perceived_colour_master_name'] = 'Black'\n",
    "articles.loc[articles.article_id == 719216001,'perceived_colour_master_name'] = 'Green'\n",
    "articles.loc[articles.article_id == 719243002,'perceived_colour_master_name'] = 'Pink'\n",
    "articles.loc[articles.article_id == 721472001,'perceived_colour_master_name'] = 'White'\n",
    "articles.loc[articles.article_id == 730292001,'perceived_colour_master_name'] = 'Black'"
   ]
  },
  {
   "cell_type": "code",
   "execution_count": 17,
   "id": "babf53ac-403a-4f57-91af-81db004f52c8",
   "metadata": {},
   "outputs": [],
   "source": [
    "# Deal with undefined (37)\n",
    "from scipy.spatial import KDTree\n",
    "from webcolors import (\n",
    "    CSS3_HEX_TO_NAMES,\n",
    "    hex_to_rgb,\n",
    ")\n",
    "def convert_rgb_to_names(rgb_tuple):   \n",
    "    # a dictionary of all the hex and their respective names in css3\n",
    "    css3_db = CSS3_HEX_TO_NAMES\n",
    "    names = []\n",
    "    rgb_values = []\n",
    "    for color_hex, color_name in c:\n",
    "        names.append(color_name)\n",
    "        rgb_values.append(hex_to_rgb(color_hex))\n",
    "    \n",
    "    kdt_db = KDTree(rgb_values)\n",
    "    distance, index = kdt_db.query(rgb_tuple)\n",
    "    return names[index]"
   ]
  },
  {
   "cell_type": "code",
   "execution_count": 18,
   "id": "d55b63bb-63df-4003-931f-b94544427522",
   "metadata": {},
   "outputs": [],
   "source": [
    "# update CSS#_HEX_TO_NAME.items()\n",
    "c=[\n",
    "('#f0f8ff', 'Blue'), ('#faebd7', 'White'), ('#00ffff', 'Blue'), ('#7fffd4', 'Blue'), ('#f0ffff', 'Blue'), \n",
    "('#f5f5dc', 'White'), ('#ffe4c4', 'White'), ('#000000', 'Black'), ('#ffebcd', 'White'), ('#0000ff', 'Blue'), ('#8a2be2', 'Purple'), \n",
    "('#a52a2a', 'Brown'), ('#deb887', 'Brown'), ('#5f9ea0', 'Blue'), ('#7fff00', 'Green'), ('#d2691e', 'Brown'), ('#ff7f50', 'Orange'), \n",
    "('#6495ed', 'Blue'), ('#fff8dc', 'Yellow'), ('#dc143c', 'Red'), ('#00008b', 'Blue'), ('#008b8b', 'Blue'), ('#b8860b', 'Yellow'),\n",
    "('#a9a9a9', 'Grey'), ('#006400', 'Green'), ('#bdb76b', 'Khaki green'), ('#8b008b', 'Purple'), ('#556b2f', 'Khaki green'), \n",
    "('#ff8c00', 'Orange'), ('#9932cc', 'Purple'), ('#8b0000', 'Red'), ('#e9967a', 'Orange'), ('#8fbc8f', 'Green'), \n",
    "('#483d8b', 'Blue'), ('#2f4f4f', 'Green'), ('#00ced1', 'Bluish Green'), ('#9400d3', 'Purple'), ('#ff1493', 'Pink'), \n",
    "('#00bfff', 'Blue'), ('#696969', 'Grey'), ('#1e90ff', 'Blue'), ('#b22222', 'Red'), ('#fffaf0', 'White'), \n",
    "('#228b22', 'Green'), ('#ff00ff', 'Purple'), ('#dcdcdc', 'White'), ('#f8f8ff', 'White'), ('#ffd700', 'Metal'), ('#daa520', 'Metal'), \n",
    "('#808080', 'gray'), ('#008000', 'green'), ('#adff2f', 'Green'), ('#f0fff0', 'Green'), ('#ff69b4', 'Pink'), ('#cd5c5c', 'Red'), \n",
    "('#4b0082', 'Purple'), ('#fffff0', 'White'), ('#f0e68c', 'Yellow'), ('#e6e6fa', 'White'), ('#fff0f5', 'White'), ('#7cfc00', 'Green'), \n",
    "('#fffacd', 'White'), ('#add8e6', 'Blue'), ('#f08080', 'Red'), ('#e0ffff', 'Blue'), ('#fafad2', 'Yellow'), \n",
    "('#d3d3d3', 'Grey'), ('#90ee90', 'Green'), ('#ffb6c1', 'Pink'), ('#ffa07a', 'Orange'), ('#20b2aa', 'Bluish Green'), \n",
    "('#87cefa', 'Blue'), ('#778899', 'Gray'), ('#b0c4de', 'Blue'), ('#ffffe0', 'Yellow'), ('#00ff00', 'Green'), \n",
    "('#32cd32', 'Green'), ('#faf0e6', 'White'), ('#800000', 'Red'), ('#66cdaa', 'Green'), ('#0000cd', 'Blue'), \n",
    "('#ba55d3', 'Purple'), ('#9370db', 'Purple'), ('#3cb371', 'Green'), ('#7b68ee', 'Purple'), ('#00fa9a', 'Green'), \n",
    "('#48d1cc', 'Green'), ('#c71585', 'Pink'), ('#191970', 'Blue'), ('#f5fffa', 'White'), ('#ffe4e1', 'Pink'), \n",
    "('#ffe4b5', 'Yellow'), ('#ffdead', 'Yellow'), ('#000080', 'Blue'), ('#fdf5e6', 'White'), ('#808000', 'Green'), ('#6b8e23', 'Green'), \n",
    "('#ffa500', 'orange'), ('#ff4500', 'Orange'), ('#da70d6', 'Purple'), ('#eee8aa', 'White'), ('#98fb98', 'Green'), ('#afeeee', 'Blue'),\n",
    "('#db7093', 'Pink'), ('#ffefd5', 'White'), ('#ffdab9', 'White'), ('#cd853f', 'Brown'), ('#ffc0cb', 'pink'), ('#dda0dd', 'Purple'), \n",
    "('#b0e0e6', 'Blue'), ('#800080', 'Purple'), ('#ff0000', 'Red'), ('#bc8f8f', 'Pink'), ('#4169e1', 'Blue'), ('#8b4513', 'Brown'), \n",
    "('#fa8072', 'Orange'), ('#f4a460', 'Brown'), ('#2e8b57', 'Green'), ('#fff5ee', 'White'), ('#a0522d', 'Orange'), ('#c0c0c0', 'Metal'), \n",
    "('#87ceeb', 'Blue'), ('#6a5acd', 'Purple'), ('#708090', 'Grey'), ('#fffafa', 'White'), ('#00ff7f', 'Green'), ('#4682b4', 'Blue'), \n",
    "('#d2b48c', 'Brown'), ('#008080', 'Green'), ('#d8bfd8', 'Purple'), ('#ff6347', 'Orange'), ('#40e0d0', 'Green'), ('#ee82ee', 'Purple'), ('#f5deb3', 'White'), \n",
    "('#ffffff', 'white'), ('#f5f5f5', 'White'), ('#ffff00', 'Yellow'), ('#9acd32', 'Yellowish Green')\n",
    "]"
   ]
  },
  {
   "cell_type": "code",
   "execution_count": 19,
   "id": "8856f703-77e3-47a3-a9bb-95ad0c089489",
   "metadata": {},
   "outputs": [],
   "source": [
    "from PIL import Image\n",
    "from colorthief import ColorThief\n",
    "from webcolors import rgb_to_name\n",
    "\n",
    "undefined_articles = ['0'+str(i) for i in articles[articles.perceived_colour_master_name == 'undefined'].article_id]\n",
    "\n",
    "for i in undefined_articles:\n",
    "    idx = i[:3]\n",
    "    directory = 'images_512_512/'+idx+'/'+i+'.jpg'\n",
    "    #img = Image.open(directory)\n",
    "    #colors = img.convert('RGB').getcolors()\n",
    "    color_thief = ColorThief(directory)\n",
    "    dominant_color = color_thief.get_color(quality=1)\n",
    "    find_color = convert_rgb_to_names(dominant_color)\n",
    "    #print(i[1:],find_color)\n",
    "    articles.loc[articles.article_id == int(i[1:]),'perceived_colour_master_name'] = find_color"
   ]
  },
  {
   "cell_type": "code",
   "execution_count": 20,
   "id": "0ba75c31-6aca-4c9e-b8d7-645a29bb5845",
   "metadata": {},
   "outputs": [],
   "source": [
    "articles.loc[articles.perceived_colour_master_name == 'Yellowish Green','perceived_colour_master_name'] = 'Green'\n",
    "articles.loc[articles.perceived_colour_master_name == 'Bluish Green',   'perceived_colour_master_name'] = 'Green'\n",
    "articles.loc[articles.perceived_colour_master_name == 'Dark Blue',      'perceived_colour_master_name'] = 'Blue'\n",
    "\n",
    "#{'Turquoise':'Blue','Mole':'Brown','Lilac Purple':'Purple','Dark Grey':'Grey','Off White':'White','Light Grey':'Grey'} -> classify\n",
    "articles.loc[articles.perceived_colour_master_name == 'Turquoise',   'perceived_colour_master_name'] = 'Blue'\n",
    "articles.loc[articles.perceived_colour_master_name == 'Mole',        'perceived_colour_master_name'] = 'Brown'\n",
    "articles.loc[articles.perceived_colour_master_name == 'Lilac Purple','perceived_colour_master_name'] = 'Purple'\n",
    "articles.loc[articles.perceived_colour_master_name == 'Dark Grey',   'perceived_colour_master_name'] = 'Grey'\n",
    "articles.loc[articles.perceived_colour_master_name == 'Off White',   'perceived_colour_master_name'] = 'White'\n",
    "articles.loc[articles.perceived_colour_master_name == 'Light Grey',  'perceived_colour_master_name'] = 'Grey'"
   ]
  },
  {
   "cell_type": "code",
   "execution_count": 21,
   "id": "1fe40ec4-3cfe-4e1f-98d7-0fe6dff0901f",
   "metadata": {},
   "outputs": [],
   "source": [
    "articles.drop(['colour_group_code', 'colour_group_name','perceived_colour_value_id','perceived_colour_value_name','perceived_colour_master_id'], \n",
    "              axis=1, inplace=True)"
   ]
  },
  {
   "cell_type": "markdown",
   "id": "96de5413-7cdf-4c99-9d11-84d788f9fba0",
   "metadata": {},
   "source": [
    "#### 2.2. Data Cleaning - appearance"
   ]
  },
  {
   "cell_type": "code",
   "execution_count": 22,
   "id": "5ef9b8da-d732-4545-9684-9ce4e7b4fbc0",
   "metadata": {},
   "outputs": [
    {
     "data": {
      "text/plain": [
       "array(['Solid', 'Melange', 'All over pattern', 'Transparent', 'Metallic', 'Stripe', 'Dot', 'Contrast', 'Treatment', 'Glittering/Metallic', 'Placement print', 'Other pattern', 'Denim', 'Other structure', 'Application/3D', 'Chambray', 'Mixed solid/pattern', 'Check', 'Colour blocking', 'Front print', 'Lace', 'Slub', 'Embroidery', 'Argyle', 'Mesh', 'Jacquard', 'Neps', 'Sequin', 'Unknown', 'Hologram'], dtype=object)"
      ]
     },
     "execution_count": 22,
     "metadata": {},
     "output_type": "execute_result"
    }
   ],
   "source": [
    "articles.graphical_appearance_name.unique() # Unknown, Other pattern, Other Structure"
   ]
  },
  {
   "cell_type": "code",
   "execution_count": 23,
   "id": "2de892fe-f73d-4ce4-8152-9d086bb43f46",
   "metadata": {},
   "outputs": [
    {
     "data": {
      "text/plain": [
       "Solid                  25409\n",
       "All over pattern        8180\n",
       "Denim                   2836\n",
       "Melange                 2518\n",
       "Stripe                  2245\n",
       "Front print             1094\n",
       "Placement print         1094\n",
       "Check                    975\n",
       "Other structure          810\n",
       "Lace                     705\n",
       "Colour blocking          689\n",
       "Embroidery               565\n",
       "Mixed solid/pattern      565\n",
       "Application/3D           474\n",
       "Glittering/Metallic      373\n",
       "Dot                      358\n",
       "Sequin                   308\n",
       "Jacquard                 303\n",
       "Treatment                202\n",
       "Other pattern            181\n",
       "Metallic                 171\n",
       "Contrast                 170\n",
       "Chambray                 140\n",
       "Mesh                      73\n",
       "Slub                      66\n",
       "Transparent               47\n",
       "Neps                      28\n",
       "Unknown                   10\n",
       "Hologram                   7\n",
       "Argyle                     3\n",
       "Name: graphical_appearance_name, dtype: int64"
      ]
     },
     "execution_count": 23,
     "metadata": {},
     "output_type": "execute_result"
    }
   ],
   "source": [
    "articles.graphical_appearance_name.value_counts()"
   ]
  },
  {
   "cell_type": "code",
   "execution_count": 24,
   "id": "3d74d3f4-bdbd-4801-987b-a98206bb2501",
   "metadata": {},
   "outputs": [],
   "source": [
    "unknown_apperances = ['0'+str(i) for i in articles[articles.graphical_appearance_name == 'Unknown'].article_id]\n",
    "\n",
    "for i in unknown_apperances:\n",
    "    idx = i[:3]\n",
    "    directory = 'images_512_512/'+idx+'/'+i+'.jpg'\n",
    "    img = Image.open(directory)\n",
    "    #img.show()"
   ]
  },
  {
   "cell_type": "code",
   "execution_count": 25,
   "id": "591aab8c-61c5-49fe-9b60-27519d329ddb",
   "metadata": {},
   "outputs": [],
   "source": [
    "articles.loc[articles.article_id == 572582012,'graphical_appearance_name'] = 'Solid'\n",
    "articles.loc[articles.article_id == 580769001,'graphical_appearance_name'] = 'Solid'\n",
    "articles.loc[articles.article_id == 592986010,'graphical_appearance_name'] = 'Solid'\n",
    "articles.loc[articles.article_id == 696124001,'graphical_appearance_name'] = 'Mixed solid/pattern'\n",
    "articles.loc[articles.article_id == 696124002,'graphical_appearance_name'] = 'Solid'\n",
    "articles.loc[articles.article_id == 696500001,'graphical_appearance_name'] = 'Lace'\n",
    "articles.loc[articles.article_id == 719216001,'graphical_appearance_name'] = 'Stripe'\n",
    "articles.loc[articles.article_id == 719243002,'graphical_appearance_name'] = 'Lace'\n",
    "articles.loc[articles.article_id == 721472001,'graphical_appearance_name'] = 'Lace'\n",
    "articles.loc[articles.article_id == 730292001,'graphical_appearance_name'] = 'Front print'"
   ]
  },
  {
   "cell_type": "code",
   "execution_count": 26,
   "id": "6128a7f2-9d21-48ae-bc5e-05072abc837b",
   "metadata": {},
   "outputs": [
    {
     "data": {
      "text/html": [
       "<div>\n",
       "<style scoped>\n",
       "    .dataframe tbody tr th:only-of-type {\n",
       "        vertical-align: middle;\n",
       "    }\n",
       "\n",
       "    .dataframe tbody tr th {\n",
       "        vertical-align: top;\n",
       "    }\n",
       "\n",
       "    .dataframe thead th {\n",
       "        text-align: right;\n",
       "    }\n",
       "</style>\n",
       "<table border=\"1\" class=\"dataframe\">\n",
       "  <thead>\n",
       "    <tr style=\"text-align: right;\">\n",
       "      <th></th>\n",
       "      <th>article_id</th>\n",
       "      <th>product_code</th>\n",
       "      <th>prod_name</th>\n",
       "      <th>product_type_no</th>\n",
       "      <th>product_type_name</th>\n",
       "      <th>product_group_name</th>\n",
       "      <th>graphical_appearance_no</th>\n",
       "      <th>graphical_appearance_name</th>\n",
       "      <th>perceived_colour_master_name</th>\n",
       "      <th>department_no</th>\n",
       "      <th>department_name</th>\n",
       "      <th>index_code</th>\n",
       "      <th>index_name</th>\n",
       "      <th>index_group_no</th>\n",
       "      <th>index_group_name</th>\n",
       "      <th>section_no</th>\n",
       "      <th>section_name</th>\n",
       "      <th>garment_group_no</th>\n",
       "      <th>garment_group_name</th>\n",
       "      <th>detail_desc</th>\n",
       "    </tr>\n",
       "  </thead>\n",
       "  <tbody>\n",
       "  </tbody>\n",
       "</table>\n",
       "</div>"
      ],
      "text/plain": [
       "Empty DataFrame\n",
       "Columns: [article_id, product_code, prod_name, product_type_no, product_type_name, product_group_name, graphical_appearance_no, graphical_appearance_name, perceived_colour_master_name, department_no, department_name, index_code, index_name, index_group_no, index_group_name, section_no, section_name, garment_group_no, garment_group_name, detail_desc]\n",
       "Index: []"
      ]
     },
     "execution_count": 26,
     "metadata": {},
     "output_type": "execute_result"
    }
   ],
   "source": [
    "articles[articles.graphical_appearance_name == 'Unknown']"
   ]
  },
  {
   "cell_type": "code",
   "execution_count": 27,
   "id": "0184043d-06a1-44e2-bf18-b51785055785",
   "metadata": {},
   "outputs": [],
   "source": [
    "articles.drop(['graphical_appearance_no'], axis = 1, inplace = True)"
   ]
  },
  {
   "cell_type": "markdown",
   "id": "e34a4d0f-5232-4572-b2c1-754e4cdd7fdc",
   "metadata": {},
   "source": [
    "#### 2.3. Data Cleaning - types"
   ]
  },
  {
   "cell_type": "markdown",
   "id": "057ca96f-8786-4305-a976-578313c4e353",
   "metadata": {},
   "source": [
    "> index_group_name :keep  \n",
    "> product_group_name/garment_group_name: find important   "
   ]
  },
  {
   "cell_type": "markdown",
   "id": "60bb0702-6489-4439-b456-d75d2c7c19a4",
   "metadata": {},
   "source": [
    "##### 2.3.1. product_group_name"
   ]
  },
  {
   "cell_type": "code",
   "execution_count": 28,
   "id": "40b5313b-ddf4-4e9b-a97f-e9f22441e4b0",
   "metadata": {},
   "outputs": [],
   "source": [
    "# Underwear/nightwear: baby & Underwear & Nightwear: ladies/men\n",
    "\n",
    "# Interior textile(towel cape(1)), Furniture(laundry bags), Stationery(markers), Garment and Shoe care(laundry bags, sewing kit, zippers) \n",
    "#    -> Items (umbrella, phone case, wallet, airpod cases)\n",
    "articles.loc[articles.product_group_name == 'Interior textile',     'product_group_name'] = 'Items'\n",
    "articles.loc[articles.product_group_name == 'Furniture',            'product_group_name'] = 'Items'\n",
    "articles.loc[articles.product_group_name == 'Stationery',           'product_group_name'] = 'Items'\n",
    "articles.loc[articles.product_group_name == 'Garment and Shoe care','product_group_name'] = 'Items'\n",
    "\n",
    "# Unknown\n",
    "articles.loc[((articles.product_group_name == 'Unknown') & (articles.garment_group_name == 'Accessories')),       'product_group_name'] = 'Items'\n",
    "articles.loc[((articles.product_group_name == 'Unknown') & (articles.garment_group_name == 'Socks and Tights')),  'product_group_name'] = 'Socks & Tights'\n",
    "articles.loc[((articles.product_group_name == 'Unknown') & (articles.garment_group_name == 'Under-, Nightwear')), 'product_group_name'] = 'Underwear'\n",
    "\n",
    "articles.loc[((articles.product_group_name =='Unknown') & \n",
    "              (articles.garment_group_name == 'Jersey Basic') &\n",
    "              (articles.index_group_name == 'Ladieswear')),'product_group_name'] = 'Garment Lower body'\n",
    "articles.loc[((articles.product_group_name =='Unknown') & \n",
    "              (articles.garment_group_name == 'Jersey Basic') & \n",
    "              (articles.index_group_name=='Menswear')), 'product_group_name'] = 'Garment Upper body'\n",
    "articles.loc[((articles.product_group_name =='Unknown') & \n",
    "              (articles.garment_group_name == 'Jersey Basic') & \n",
    "              (articles.index_group_name=='Baby/Children')), 'product_group_name'] = 'Underwear/nightwear'\n",
    "\n",
    "articles.loc[((articles.product_group_name=='Unknown') & \n",
    "              ((articles.garment_group_name == 'Trousers Denim') | \n",
    "               (articles.garment_group_name == 'Trousers') | \n",
    "               (articles.garment_group_name == 'Shorts'))), 'product_group_name'] = 'Garment Lower body'\n",
    "\n",
    "articles.loc[((articles.product_group_name == 'Unknown') & \n",
    "              ((articles.garment_group_name == 'Knitwear') | (articles.garment_group_name == 'Shirts') | \n",
    "               (articles.garment_group_name == 'Dressed') | (articles.garment_group_name == 'Dresses Ladies')|\n",
    "               (articles.garment_group_name == 'Outdoor'))), 'product_group_name'] = 'Garment Upper body'\n",
    "\n",
    "articles.loc[((articles.product_group_name == 'Unknown') & \n",
    "              ((articles.garment_group_name == 'Dresses/Skirts girls') | \n",
    "              (articles.garment_group_name == 'Woven/Jersey/Knitted mix Baby'))),'product_group_name'] = 'Underwear/nightwear'\n",
    "\n",
    "articles.loc[((articles.product_group_name=='Unknown') & \n",
    "              ((articles.product_group_name =='Jersey Fancy') |\n",
    "               (articles.product_group_name =='Unknown'))),'product_group_name'] = 'Garment Lower body'"
   ]
  },
  {
   "cell_type": "markdown",
   "id": "3ed739ac-a082-41d7-a7cb-1afb0240d785",
   "metadata": {},
   "source": [
    "##### 2.3.2. garment_group_name"
   ]
  },
  {
   "cell_type": "code",
   "execution_count": 29,
   "id": "a2a7427b-36c5-4929-8cab-8d768501d9d0",
   "metadata": {},
   "outputs": [],
   "source": [
    "# Unknown\n",
    "articles.loc[((articles.garment_group_name == 'Unknown') & \n",
    "              (articles.product_group_name == 'Accessories') | (articles.product_group_name == 'Items')),'garment_group_name'] = 'Accessories'\n",
    "\n",
    "articles.loc[((articles.garment_group_name =='Unknown') & (articles.product_group_name == 'Socks & Tights')),'garment_group_name'] = 'Socks and Tights'\n",
    "articles.loc[((articles.garment_group_name =='Unknown') & (articles.product_group_name == 'Shoes')), 'garment_group_name'] = 'Shoes'\n",
    "articles.loc[((articles.garment_group_name =='Unknown') & (articles.product_group_name == 'Swimwear')),'garment_group_name'] = 'Swimwear'\n",
    "articles.loc[((articles.garment_group_name =='Unknown') & (articles.product_group_name == 'Underwear')), 'garment_group_name'] = 'Under-, Nightwear'\n",
    "articles.loc[((articles.garment_group_name == 'Unknown') & (articles.product_type_name == 'Shorts')),'garment_group_name'] = 'Shorts'\n",
    "articles.loc[((articles.garment_group_name == 'Unknown') & (articles.product_type_name == 'Blouse')),'garment_group_name'] = 'Blouse'\n",
    "articles.loc[((articles.garment_group_name == 'Unknown') & (articles.product_type_name == 'Dress')), 'garment_group_name'] = 'Dresses Ladies'\n",
    "articles.loc[((articles.garment_group_name == 'Unknown') & (articles.product_type_name == 'Shirt')), 'garment_group_name'] = 'Shirt'\n",
    "articles.loc[((articles.garment_group_name == 'Unknown') & (articles.product_type_name == 'Skirt')), 'garment_group_name'] = 'Skirt'\n",
    "articles.loc[((articles.garment_group_name == 'Unknown') & (articles.product_type_name == 'T-shirt')),'garment_group_name'] = 'Jersey Basic'\n",
    "\n",
    "articles.loc[((articles.garment_group_name == 'Unknown') & \n",
    "              (articles.product_type_name == 'Trousers') |\n",
    "              (articles.product_type_name == 'Dungarees')),'garment_group_name'] = 'Trousers'\n",
    "\n",
    "articles.loc[((articles.garment_group_name == 'Unknown') & \n",
    "              (articles.product_type_name == 'Vest top') | \n",
    "              (articles.product_type_name == 'Hoodie') |\n",
    "              (articles.product_type_name == 'Top')|\n",
    "              (articles.product_type_name == 'Sweater')|\n",
    "              (articles.product_type_name == 'Polo shirt')),'garment_group_name'] = 'Knitwear'\n",
    "\n",
    "articles.loc[((articles.garment_group_name == 'Unknown') & \n",
    "              (articles.product_type_name == 'Outdoor trousers') |\n",
    "              (articles.product_type_name == 'Leggings/Tights')| \n",
    "              (articles.product_type_name == 'Outdoor Waistcoat')),'garment_group_name'] = 'Trousers'\n",
    "\n",
    "articles.loc[((articles.garment_group_name == 'Unknown') & \n",
    "              (articles.product_type_name == 'Jacket') |\n",
    "              (articles.product_type_name == 'Coat')| \n",
    "              (articles.product_type_name == 'Blazer')| \n",
    "              (articles.product_type_name == 'Cardigan')),'garment_group_name'] = 'Dressed'\n",
    "\n",
    "articles.loc[((articles.garment_group_name == 'Unknown') & \n",
    "              (articles.product_type_name == 'Garment Set') |\n",
    "              (articles.product_type_name == 'Jumpsuit/Playsuit')| \n",
    "              (articles.product_type_name == 'Bodysuit')),'garment_group_name'] = 'Jersey Fancy'\n",
    "articles.loc[articles.garment_group_name == 'Unknown','garment_group_name'] = 'Outdoor'"
   ]
  },
  {
   "cell_type": "code",
   "execution_count": 30,
   "id": "a2f206b5-2d6f-4456-9ffd-d8890a6c5667",
   "metadata": {},
   "outputs": [],
   "source": [
    "articles.drop(['prod_name','product_code','product_type_no','department_no','index_code','index_group_no','section_no','garment_group_no'], \n",
    "              axis = 1, inplace = True)\n",
    "articles.drop(['product_type_name','department_name','index_name','section_name'], axis = 1, inplace = True)"
   ]
  },
  {
   "cell_type": "markdown",
   "id": "9377fe0c-c73b-45b6-ab79-06fe88514806",
   "metadata": {},
   "source": [
    "#### 2.4 Data Cleaning - detail_descriptions"
   ]
  },
  {
   "cell_type": "code",
   "execution_count": 31,
   "id": "680df40d-2373-455a-a6d6-0c2bcce83715",
   "metadata": {},
   "outputs": [],
   "source": [
    "articles.drop(['detail_desc'], axis = 1, inplace = True)"
   ]
  },
  {
   "cell_type": "markdown",
   "id": "7deceed3-6718-44c6-a5d2-5b8e16b1ef0b",
   "metadata": {},
   "source": [
    "### 3. customers"
   ]
  },
  {
   "cell_type": "markdown",
   "id": "1af2dbc9-9102-42e5-aa65-5ce8f05b136f",
   "metadata": {},
   "source": [
    "#### 3.1 Data Cleaning - missing values"
   ]
  },
  {
   "cell_type": "code",
   "execution_count": 7,
   "id": "80b4a012-7632-442a-83b0-d34c7d527e8d",
   "metadata": {},
   "outputs": [
    {
     "name": "stdout",
     "output_type": "stream",
     "text": [
      "customer_id                    0\n",
      "FN                        454932\n",
      "Active                    459841\n",
      "club_member_status          1128\n",
      "fashion_news_frequency    454121\n",
      "age                         4616\n",
      "postal_code                    0\n",
      "dtype: int64\n"
     ]
    },
    {
     "data": {
      "text/plain": [
       "<AxesSubplot:>"
      ]
     },
     "execution_count": 7,
     "metadata": {},
     "output_type": "execute_result"
    },
    {
     "data": {
      "image/png": "[encoded data removed]",
      "text/plain": [
       "<Figure size 432x288 with 2 Axes>"
      ]
     },
     "metadata": {
      "needs_background": "light"
     },
     "output_type": "display_data"
    }
   ],
   "source": [
    "print(customers.isnull().sum())\n",
    "sns.heatmap(customers.isnull())"
   ]
  },
  {
   "cell_type": "code",
   "execution_count": 32,
   "id": "72d8ebc0",
   "metadata": {},
   "outputs": [],
   "source": [
    "#customers.fashion_news_frequency = customers.fashion_news_frequency.replace(\"NONE\",np.nan)"
   ]
  },
  {
   "cell_type": "code",
   "execution_count": 33,
   "id": "634195cd-b1b0-4a5a-8901-ce2e2487fc95",
   "metadata": {},
   "outputs": [
    {
     "name": "stdout",
     "output_type": "stream",
     "text": [
      "About 0.0% of customer_id are missing.\n",
      "About 61.34% of FN are missing.\n",
      "About 62.0% of Active are missing.\n",
      "About 0.15% of club_member_status are missing.\n",
      "About 0.4% of fashion_news_frequency are missing.\n",
      "About 0.62% of age are missing.\n",
      "About 0.0% of postal_code are missing.\n"
     ]
    }
   ],
   "source": [
    "for var in customers.columns:\n",
    "    perc = round(customers[var].isnull().sum()/customers.shape[0]*100,2)\n",
    "    print(f\"About {perc}% of {var} are missing.\")"
   ]
  },
  {
   "cell_type": "code",
   "execution_count": 34,
   "id": "d34c9e2c-3648-462e-bc94-c2c5bb617f07",
   "metadata": {},
   "outputs": [
    {
     "name": "stdout",
     "output_type": "stream",
     "text": [
      "    club_member_status: ['ACTIVE' 'PRE-CREATE' None 'LEFT CLUB']\n",
      "fashion_news_frequency: ['NONE' 'Regularly' None 'Monthly']\n"
     ]
    }
   ],
   "source": [
    "print(f\"    club_member_status: {customers.club_member_status.unique()}\")\n",
    "print(f\"fashion_news_frequency: {customers.fashion_news_frequency.unique()}\")"
   ]
  },
  {
   "cell_type": "code",
   "execution_count": 35,
   "id": "66aafe32-cefe-4d48-bf3a-b944fb47874b",
   "metadata": {},
   "outputs": [
    {
     "name": "stdout",
     "output_type": "stream",
     "text": [
      "About 61.23% of fashion_news_frequency are missing.\n"
     ]
    }
   ],
   "source": [
    "# fashion_news_frequency: have None & NONE, where NONE has not been treated as missing values\n",
    "perc = round(customers[(customers.fashion_news_frequency == 'NONE') | (customers.fashion_news_frequency.isnull())].shape[0]/customers.shape[0]*100,2)\n",
    "print(f\"About {perc}% of fashion_news_frequency are missing.\")"
   ]
  },
  {
   "cell_type": "code",
   "execution_count": 13,
   "id": "7b90f687-9e46-4a60-9020-86465f074afa",
   "metadata": {},
   "outputs": [],
   "source": [
    "# FN & Active & fashion_news_frequency: over 50% are missing -> drop columns\n",
    "customers = customers.drop(columns = ['FN','Active','fashion_news_frequency'])\n",
    "\n",
    "\n",
    "# club_member_status: less than 1% are missing -> fillna with \"Other\"\n",
    "customers.club_member_status.fillna('Other',inplace = True)\n",
    "\n",
    "# age: less than 1% are missing -> fillna with mode/mean/median?\n",
    "customers.age.fillna(customers.age.mode()[0], inplace=True)"
   ]
  },
  {
   "cell_type": "markdown",
   "id": "f45332e8-d772-4901-910f-a7319379caca",
   "metadata": {},
   "source": [
    "#### 3.2. Get gender"
   ]
  },
  {
   "cell_type": "code",
   "execution_count": 14,
   "id": "ecbd7c47-bc1f-4114-b39e-c78ba8ae2c4a",
   "metadata": {},
   "outputs": [
    {
     "data": {
      "text/plain": [
       "array(['Ladieswear', 'Sport', 'Baby/Children', 'Menswear', 'Divided'], dtype=object)"
      ]
     },
     "execution_count": 14,
     "metadata": {},
     "output_type": "execute_result"
    }
   ],
   "source": [
    "articles.index_group_name.unique()"
   ]
  },
  {
   "cell_type": "code",
   "execution_count": 15,
   "id": "6bf6e146-571b-4251-b504-4857483d6e6b",
   "metadata": {},
   "outputs": [],
   "source": [
    "merge1 = transactions.merge(articles[['article_id','index_group_name']],on='article_id')[['customer_id','index_group_name']]"
   ]
  },
  {
   "cell_type": "code",
   "execution_count": 16,
   "id": "5e28041d-efdd-4d2c-bba7-2c426927b83d",
   "metadata": {},
   "outputs": [
    {
     "data": {
      "text/plain": [
       "Ladieswear       5480032\n",
       "Divided          1727478\n",
       "Menswear          435270\n",
       "Sport             324934\n",
       "Baby/Children     135936\n",
       "Name: index_group_name, dtype: int64"
      ]
     },
     "execution_count": 16,
     "metadata": {},
     "output_type": "execute_result"
    }
   ],
   "source": [
    "merge1.index_group_name.value_counts()"
   ]
  },
  {
   "cell_type": "code",
   "execution_count": 17,
   "id": "94a9c70f-1693-4500-be80-5615b74abbab",
   "metadata": {},
   "outputs": [
    {
     "data": {
      "text/plain": [
       "customer_id\n",
       "-9223352921020755230                                                                                                                                                                                                                                                                                                                                                                                                                                                                [Divided, Ladieswear]\n",
       "-9223343869995384291                                                                                                                                                                                      [Ladieswear, Ladieswear, Ladieswear, Ladieswear, Ladieswear, Ladieswear, Ladieswear, Ladieswear, Ladieswear, Ladieswear, Ladieswear, Ladieswear, Ladieswear, Ladieswear, Ladieswear, Ladieswear, Sport, Ladieswear, Ladieswear, Ladieswear, Ladieswear, Sport, Sport, Sport, Sport, Ladieswear]\n",
       "-9223295149301589789                                                                                                                                                                                                                                                                                                                                                                                                 [Ladieswear, Ladieswear, Ladieswear, Ladieswear, Ladieswear, Ladieswear, Ladieswear]\n",
       "-9223293121067732640                                                                                                                                                                                                                                                                                                                                                                         [Ladieswear, Ladieswear, Ladieswear, Ladieswear, Ladieswear, Ladieswear, Ladieswear, Ladieswear, Ladieswear]\n",
       "-9223290575350349271                                                                                                                                                                                                                                                                                                                                                                                                             [Ladieswear, Ladieswear, Ladieswear, Ladieswear, Ladieswear, Ladieswear]\n",
       "                                                                                                                                                                                                                                                              ...                                                                                                                                                                                                                                        \n",
       " 9223099843213569889    [Ladieswear, Ladieswear, Ladieswear, Ladieswear, Ladieswear, Ladieswear, Ladieswear, Divided, Divided, Divided, Ladieswear, Divided, Divided, Divided, Ladieswear, Divided, Divided, Ladieswear, Divided, Ladieswear, Ladieswear, Ladieswear, Divided, Divided, Divided, Divided, Ladieswear, Ladieswear, Ladieswear, Divided, Ladieswear, Ladieswear, Ladieswear, Ladieswear, Ladieswear, Ladieswear, Ladieswear, Ladieswear, Ladieswear, Divided, Divided, Divided, Ladieswear]\n",
       " 9223103796055095238                                                                                                                                                                                                                                                                                                                                                                                                                                                             [Ladieswear, Ladieswear]\n",
       " 9223108375636425507                                                                                                                                                                                                                                                                                                                                                                                                                            [Ladieswear, Ladieswear, Ladieswear, Ladieswear, Divided]\n",
       " 9223144259947635662                                                                                                                                                                                                                                                                                                                                                                                                                         [Menswear, Menswear, Menswear, Menswear, Menswear, Menswear]\n",
       " 9223148401910457466                                                                                                                                                                                                                                                                                                         [Ladieswear, Ladieswear, Ladieswear, Ladieswear, Ladieswear, Ladieswear, Ladieswear, Sport, Ladieswear, Ladieswear, Ladieswear, Ladieswear, Divided, Ladieswear, Ladieswear]\n",
       "Name: index_group_name, Length: 741661, dtype: object"
      ]
     },
     "execution_count": 17,
     "metadata": {},
     "output_type": "execute_result"
    }
   ],
   "source": [
    "merge1.groupby('customer_id').index_group_name.apply(list)"
   ]
  },
  {
   "cell_type": "code",
   "execution_count": 18,
   "id": "ab997d9c-47c4-40be-a690-eedf66e22b34",
   "metadata": {},
   "outputs": [],
   "source": [
    "mapping_weights = {'Ladieswear':2, 'Sport':0, 'Baby/Children':1.5, 'Menswear':1, 'Divided':0}\n",
    "merge1['weights'] = merge1.index_group_name.map(mapping_weights)\n",
    "\n",
    "merge2 = merge1.groupby('customer_id').weights.mean().reset_index()\n",
    "merge2['gender'] = merge2.weights.map( lambda x: 'Female' if x >= 1.5 else 'Male')\n",
    "customers = customers.merge(merge2[['customer_id','gender']], on='customer_id')"
   ]
  },
  {
   "cell_type": "code",
   "execution_count": 21,
   "id": "2d094019",
   "metadata": {},
   "outputs": [
    {
     "data": {
      "image/png": "[encoded data removed]",
      "text/plain": [
       "<Figure size 432x432 with 1 Axes>"
      ]
     },
     "metadata": {},
     "output_type": "display_data"
    }
   ],
   "source": [
    "customers.gender.value_counts().plot.pie(title = \"customer gender percentages\",legend = True, labels=['Female','Male'],\n",
    "                           autopct='%1.0f%%', fontsize=10, colormap = 'tab20c',figsize=(6,6))\n",
    "None"
   ]
  },
  {
   "cell_type": "code",
   "execution_count": 24,
   "id": "7b165507",
   "metadata": {
    "scrolled": true
   },
   "outputs": [
    {
     "data": {
      "image/png": "[encoded data removed]",
      "text/plain": [
       "<Figure size 432x432 with 1 Axes>"
      ]
     },
     "metadata": {},
     "output_type": "display_data"
    }
   ],
   "source": [
    "customers.club_member_status.value_counts().plot.pie(title = \"customers' club member status percentages\",legend = True, \n",
    "                                                     labels=['Active','Pre-create','Other','Left club'],\n",
    "                                                     autopct='%1.0f%%', fontsize=10, \n",
    "                                                     colormap = 'tab20c',figsize=(6,6))\n",
    "None"
   ]
  },
  {
   "cell_type": "markdown",
   "id": "e7d73077-6350-4d8e-85ed-75ab868cc6f8",
   "metadata": {},
   "source": [
    "## Save Cleaned Data"
   ]
  },
  {
   "cell_type": "code",
   "execution_count": 42,
   "id": "3c18e281",
   "metadata": {},
   "outputs": [],
   "source": [
    "#articles.to_csv('articles_20ss_cleaned.csv', index=False)            #   50,599 x 6\n",
    "#customers.to_csv('customers_20ss_cleaned.csv', index=False)          #  741,661 x 4\n",
    "#transactions.to_csv('transactions_20ss_cleaned.csv', index=False) "
   ]
  },
  {
   "cell_type": "code",
   "execution_count": 67,
   "id": "928be69d-ff48-4c69-ba22-9a0e72ebf0ec",
   "metadata": {},
   "outputs": [],
   "source": [
    "articles.to_parquet('articles_20ss_cleaned.parquet', index=False)            #   50,599 x 6\n",
    "customers.to_parquet('customers_20ss_cleaned.parquet', index=False)          #  741,661 x 4\n",
    "transactions.to_parquet('transactions_20ss_cleaned.parquet', index=False)    #6,812,506 x 7"
   ]
  },
  {
   "cell_type": "code",
   "execution_count": null,
   "id": "2099bd07-55b5-452d-83dd-9f0ed92a7992",
   "metadata": {},
   "outputs": [],
   "source": []
  }
 ],
 "metadata": {
  "kernelspec": {
   "display_name": "Python 3",
   "language": "python",
   "name": "python3"
  },
  "language_info": {
   "codemirror_mode": {
    "name": "ipython",
    "version": 3
   },
   "file_extension": ".py",
   "mimetype": "text/x-python",
   "name": "python",
   "nbconvert_exporter": "python",
   "pygments_lexer": "ipython3",
   "version": "3.8.8"
  }
 },
 "nbformat": 4,
 "nbformat_minor": 5
}
